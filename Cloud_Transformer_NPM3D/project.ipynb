{
 "cells": [
  {
   "cell_type": "code",
   "execution_count": 1,
   "metadata": {},
   "outputs": [
    {
     "name": "stdout",
     "output_type": "stream",
     "text": [
      "Device:  cuda\n"
     ]
    }
   ],
   "source": [
    "import torch \n",
    "from torch.utils.data import DataLoader\n",
    "import os\n",
    "\n",
    "import warnings\n",
    "warnings.filterwarnings(\"ignore\", category=FutureWarning)\n",
    "\n",
    "device = torch.device(\"cuda\" if torch.cuda.is_available() else \"cpu\") \n",
    "print(\"Device: \", device)\n",
    "%load_ext autoreload\n",
    "%autoreload 2"
   ]
  },
  {
   "cell_type": "markdown",
   "metadata": {},
   "source": [
    "## Original Cloud Transformers "
   ]
  },
  {
   "cell_type": "markdown",
   "metadata": {},
   "source": [
    "### Classification : \n"
   ]
  },
  {
   "cell_type": "markdown",
   "metadata": {},
   "source": [
    "#### ModelNet40 "
   ]
  },
  {
   "cell_type": "code",
   "execution_count": 2,
   "metadata": {},
   "outputs": [
    {
     "name": "stdout",
     "output_type": "stream",
     "text": [
      "Jupyter environment detected. Enabling Open3D WebVisualizer.\n",
      "[Open3D INFO] WebRTC GUI backend enabled.\n",
      "[Open3D INFO] WebRTCWindowSystem: HTTP handshake server disabled.\n",
      "✅ Model Loaded\n"
     ]
    },
    {
     "name": "stderr",
     "output_type": "stream",
     "text": [
      "                                                                 "
     ]
    },
    {
     "name": "stdout",
     "output_type": "stream",
     "text": [
      "[Eval] Val Loss: 0.3523, Acc: 89.75%\n",
      "✅ Model saved to saved_models/ct_classifier_modelnet.pth\n"
     ]
    },
    {
     "name": "stderr",
     "output_type": "stream",
     "text": [
      "\r"
     ]
    }
   ],
   "source": [
    "from data_processing.ModelNet40 import ModelNetDataset\n",
    "from train_functions.ModelNet40_training import train_modelnet40\n",
    "from cloud_transformer.classification_model import CT_Classifier\n",
    "# File paths\n",
    "root = \"data/ModelNet40_PLY\"\n",
    "\n",
    "# Loading datasets + online data augmentation\n",
    "train_ds = ModelNetDataset(root, folder=\"train\", rotate=True, noise=True)\n",
    "test_ds  = ModelNetDataset(root, folder=\"test\")\n",
    "\n",
    "# DataLoaders \n",
    "train_loader = DataLoader(train_ds, batch_size=16, shuffle=True, num_workers=8, pin_memory=True)\n",
    "test_loader  = DataLoader(test_ds, batch_size=16, shuffle=False, num_workers=8, pin_memory=True)\n",
    "\n",
    "# input : (B, N, 3)\n",
    "model_modelnet = CT_Classifier(n_classes=40, model_dim=512, heads=16, num_layers=2, dropout=0.5, use_scales=True , use_checkpoint=False)\n",
    "\n",
    "load = True \n",
    "if load : \n",
    "    model_modelnet.load_state_dict(torch.load(\"saved_models/ct_classifier_modelnet.pth\", map_location=device))\n",
    "    print(f\"✅ Model Loaded\")\n",
    "    \n",
    "model_modelnet.to(device)\n",
    "\n",
    "best_model = train_modelnet40(model_modelnet, device, train_loader, test_loader, epochs=25, lr=0.001, weight_decay=0, eval_mode=True) # Eval mode to evaluate test_loader once with the loaded model\n",
    "\n",
    "save = True \n",
    "if save : \n",
    "    save_path = \"saved_models/ct_classifier_modelnet.pth\"\n",
    "    torch.save(best_model.state_dict(), save_path)\n",
    "    print(f\"✅ Model saved to {save_path}\")"
   ]
  },
  {
   "cell_type": "markdown",
   "metadata": {},
   "source": [
    "#### ScanObjectNN"
   ]
  },
  {
   "cell_type": "code",
   "execution_count": 3,
   "metadata": {},
   "outputs": [
    {
     "name": "stdout",
     "output_type": "stream",
     "text": [
      "✅ Model Loaded\n"
     ]
    },
    {
     "name": "stderr",
     "output_type": "stream",
     "text": [
      "                                                                 "
     ]
    },
    {
     "name": "stdout",
     "output_type": "stream",
     "text": [
      "[Eval] Loss: 0.5367, Cls Acc: 82.65%, Seg Acc: 79.94%\n",
      "✅ Model saved to saved_models/ct_classifier_scanobject.pth\n"
     ]
    },
    {
     "name": "stderr",
     "output_type": "stream",
     "text": [
      "\r"
     ]
    }
   ],
   "source": [
    "from data_processing.ScanObjectNN import ScanObjectNNDataset\n",
    "from train_functions.ScanObject_training import train_scanobject\n",
    "from cloud_transformer.classification_model import CT_Classifier\n",
    "\n",
    "# File paths\n",
    "train_path = 'data/h5_files/main_split/training_objectdataset_augmentedrot_scale75.h5'\n",
    "test_path  = 'data/h5_files/main_split/test_objectdataset_augmentedrot_scale75.h5'\n",
    "\n",
    "# Loading Datasets\n",
    "train_ds = ScanObjectNNDataset(train_path, rotate=True, noise=True)\n",
    "test_ds  = ScanObjectNNDataset(test_path)\n",
    "\n",
    "# DataLoaders — Online Data Augmentation\n",
    "train_loader = DataLoader(train_ds, batch_size=16, shuffle=True, num_workers=8)\n",
    "test_loader  = DataLoader(test_ds, batch_size=16, shuffle=False, num_workers=8)\n",
    "\n",
    "\n",
    "model_scanobject = CT_Classifier(n_classes=15, model_dim=512, heads=16, num_layers=2, dropout=0.5, use_scales=True , use_checkpoint=True)\n",
    "\n",
    "load = True \n",
    "if load : \n",
    "    model_scanobject.load_state_dict(torch.load(\"saved_models/ct_classifier_scanobject.pth\", map_location=device))\n",
    "    print(f\"✅ Model Loaded\")\n",
    "\n",
    "model_scanobject.to(device)\n",
    "best_model = train_scanobject(model_scanobject, device, train_loader, test_loader, epochs=20, lr=0.001, weight_decay=0, eval_mode=True)\n",
    "\n",
    "save = True \n",
    "if save : \n",
    "    save_path = \"saved_models/ct_classifier_scanobject.pth\"\n",
    "    torch.save(best_model.state_dict(), save_path)\n",
    "    print(f\"✅ Model saved to {save_path}\")"
   ]
  },
  {
   "cell_type": "markdown",
   "metadata": {},
   "source": [
    "### Point Completion :"
   ]
  },
  {
   "cell_type": "markdown",
   "metadata": {},
   "source": [
    "#### ShapeNet"
   ]
  },
  {
   "cell_type": "code",
   "execution_count": null,
   "metadata": {},
   "outputs": [
    {
     "name": "stdout",
     "output_type": "stream",
     "text": [
      "Jupyter environment detected. Enabling Open3D WebVisualizer.\n",
      "[Open3D INFO] WebRTC GUI backend enabled.\n",
      "[Open3D INFO] WebRTCWindowSystem: HTTP handshake server disabled.\n",
      "Train set size: 135288\n",
      "Test set size:  600\n"
     ]
    },
    {
     "name": "stderr",
     "output_type": "stream",
     "text": [
      "Initial Eval:  68%|██████▊   | 26/38 [00:14<00:05,  2.03it/s]"
     ]
    }
   ],
   "source": [
    "from data_processing.ShapeNet import ShapeNetCompletionDataset\n",
    "from cloud_transformer.completion_model import CT_Completion\n",
    "from train_functions.ShapeNet_training import train_shapenet\n",
    "\n",
    "root = os.path.join(os.getcwd(), \"data\", \"ShapeNetCompletion\")\n",
    "train_ds = ShapeNetCompletionDataset(root, split='train', n_input=1024, n_output=4096)\n",
    "test_ds  = ShapeNetCompletionDataset(root, split='test', n_input=1024, n_output=4096)\n",
    "\n",
    "print(f\"Train set size: {len(train_ds)}\")\n",
    "print(f\"Test set size:  {len(test_ds)}\")\n",
    "\n",
    "train_loader = DataLoader(train_ds, batch_size=16, shuffle=True, num_workers=4)\n",
    "test_loader  = DataLoader(test_ds, batch_size=16, shuffle=False, num_workers=4)\n",
    "\n",
    "# Coarser Grid are used here to speed up training\n",
    "ct_completion_shapenet = CT_Completion(num_latent=512, model_dim=512, heads=8, num_layers=1, use_scales=False, use_checkpoint=False)\n",
    "\n",
    "load = False \n",
    "if load : \n",
    "    ct_completion_shapenet.load_state_dict(torch.load(\"saved_models/ct_completion_shapenet.pth\", map_location=device))\n",
    "    print(f\"✅ Model Loaded\")\n",
    "\n",
    "ct_completion_shapenet.to(device)\n",
    "best_model = train_shapenet(ct_completion_shapenet, device, train_loader, test_loader, epochs=20, lr=0.001, weight_decay=0, subsample=2000, eval_mode=False, chamfer_weight=0.2) \n",
    "\n",
    "save = True \n",
    "if save : \n",
    "    save_path = \"saved_models/ct_completion_shapenet.pth\"\n",
    "    torch.save(best_model.state_dict(), save_path)\n",
    "    print(f\"✅ Model saved to {save_path}\")"
   ]
  },
  {
   "cell_type": "markdown",
   "metadata": {},
   "source": [
    "#### Visualization : "
   ]
  },
  {
   "cell_type": "code",
   "execution_count": null,
   "metadata": {},
   "outputs": [
    {
     "name": "stdout",
     "output_type": "stream",
     "text": []
    }
   ],
   "source": [
    "from data_processing.ShapeNet import ShapeNetCompletionDataset\n",
    "from cloud_transformer.completion_model import CT_Completion\n",
    "\n",
    "root = os.path.join(os.getcwd(), \"data\", \"ShapeNetCompletion\")\n",
    "train_ds = ShapeNetCompletionDataset(root, split='train', n_input=1024, n_output=8192)\n",
    "test_ds  = ShapeNetCompletionDataset(root, split='test', n_input=1024, n_output=8192)\n",
    "\n",
    "train_loader = DataLoader(train_ds, batch_size=8, shuffle=True, num_workers=4)\n",
    "test_loader  = DataLoader(test_ds, batch_size=8, shuffle=False, num_workers=4)\n",
    "\n",
    "model = CT_Completion(num_latent=256, model_dim=256, heads=8, num_layers=1, use_scales=False, use_checkpoint=True)\n",
    "model.load_state_dict(torch.load(\"saved_models/ct_completion_shapenet.pth\", map_location=device))\n",
    "print(f\"✅ Model Loaded\")\n",
    "model = model.to(device)\n",
    "from data_processing.ShapeNet import visualize_completion\n",
    "visualize_completion(model, train_loader, device, num_samples=5)"
   ]
  }
 ],
 "metadata": {
  "kernelspec": {
   "display_name": "DL",
   "language": "python",
   "name": "python3"
  },
  "language_info": {
   "codemirror_mode": {
    "name": "ipython",
    "version": 3
   },
   "file_extension": ".py",
   "mimetype": "text/x-python",
   "name": "python",
   "nbconvert_exporter": "python",
   "pygments_lexer": "ipython3",
   "version": "3.10.16"
  }
 },
 "nbformat": 4,
 "nbformat_minor": 2
}
