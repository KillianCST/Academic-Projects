{
 "cells": [
  {
   "cell_type": "markdown",
   "metadata": {},
   "source": [
    "#### Librairies"
   ]
  },
  {
   "cell_type": "code",
   "execution_count": 1,
   "metadata": {},
   "outputs": [
    {
     "name": "stderr",
     "output_type": "stream",
     "text": [
      "C:\\Users\\1411\\AppData\\Roaming\\Python\\Python312\\site-packages\\tqdm_joblib\\__init__.py:4: TqdmExperimentalWarning: Using `tqdm.autonotebook.tqdm` in notebook mode. Use `tqdm.tqdm` instead to force console mode (e.g. in jupyter console)\n",
      "  from tqdm.autonotebook import tqdm\n"
     ]
    }
   ],
   "source": [
    "# External \n",
    "import numpy as np \n",
    "from joblib import Parallel, delayed\n",
    "from tqdm_joblib import tqdm_joblib\n",
    "from tqdm import tqdm\n",
    "import gc\n",
    "\n",
    "# Internal \n",
    "import utils as u \n",
    "from kernel_methods import Kernel_Ridge, Kernel_SVM, Kernel_Logistic\n",
    "from kernels import spectrum_kernel, weighted_degree_kernel\n",
    "from mismatch_kernel import mismatch_kernel\n",
    "from data_augmentation import augment_dataset\n",
    "from cross_validation import cross_val_score_with_precomputed_kernel, cross_val_predict_with_precomputed_kernel, accuracy_score, mode\n",
    "from meta_models import Bagging_Kernel, Hierarchical_Bagging_Kernel, EnsembleKernel, NLCK\n",
    "%load_ext autoreload\n",
    "%autoreload 2"
   ]
  },
  {
   "cell_type": "markdown",
   "metadata": {},
   "source": [
    "### Pre-Processing : "
   ]
  },
  {
   "cell_type": "code",
   "execution_count": 2,
   "metadata": {},
   "outputs": [
    {
     "name": "stdout",
     "output_type": "stream",
     "text": [
      "Dataset 1 shape: (2000, 3)\n",
      "\n",
      "Dataset 2 shape: (2000, 3)\n",
      "\n",
      "Dataset 3 shape: (2000, 3)\n",
      "\n",
      "\n",
      "   Id  Bound                                                seq\n",
      "0   0      0  GGAGAATCATTTGAACCCGGGAGGTGGAGGTTGCCGTGAGCTGAGA...\n",
      "1   1      1  ACCCTGCCTACACCGCGGCGGGGACAGGTGGAGGTTTCAACCCCTG...\n",
      "2   2      1  TGCAAATCTGTAAGCATTTCTCAGGCAATGAATTATGTCAACACAA...\n",
      "3   3      0  GCGGGACGTGGGCGTCGAGGGTAAGGATATCTGCAGAAGTACTGTC...\n",
      "4   4      1  GGAGAATAGCATGTATCCGAGAGGTGGAGCTGGCAGTGAGCCGAGA...\n"
     ]
    }
   ],
   "source": [
    "# Dataset 1\n",
    "dataset1 = u.load_and_merge(\"data/Xtr0.csv\", \"data/Ytr0.csv\")\n",
    "print(\"Dataset 1 shape:\", dataset1.shape)\n",
    "\n",
    "# Dataset 2\n",
    "dataset2 = u.load_and_merge(\"data/Xtr1.csv\", \"data/Ytr1.csv\")\n",
    "print(\"\\nDataset 2 shape:\", dataset2.shape)\n",
    "\n",
    "# Dataset 3 \n",
    "dataset3 = u.load_and_merge(\"data/Xtr2.csv\", \"data/Ytr2.csv\")\n",
    "print(\"\\nDataset 3 shape:\", dataset3.shape)\n",
    "\n",
    "print(\"\\n\")\n",
    "print(dataset1.head())\n",
    "\n",
    "\n",
    "# Training/Validation Split\n",
    "X_train1, X_test1, y_train1, y_test1 = u.split_data(dataset1, test_size=0., random_state=42, shuffle = False)\n",
    "X_train2, X_test2, y_train2, y_test2 = u.split_data(dataset2, test_size=0., random_state=42, shuffle = False)\n",
    "X_train3, X_test3, y_train3, y_test3 = u.split_data(dataset3, test_size=0., random_state=42, shuffle = False)\n",
    "\n",
    "\n",
    "# Data Augmentation\n",
    "\n",
    "X_train_aug1, y_train_aug1 = augment_dataset(X_train1, y_train1)\n",
    "X_train_aug2, y_train_aug2 = augment_dataset(X_train2, y_train2)\n",
    "X_train_aug3, y_train_aug3 = augment_dataset(X_train3, y_train3)\n"
   ]
  },
  {
   "cell_type": "markdown",
   "metadata": {},
   "source": [
    "### Pre-Computing Kernels"
   ]
  },
  {
   "cell_type": "markdown",
   "metadata": {},
   "source": [
    "#### Mismatch"
   ]
  },
  {
   "cell_type": "code",
   "execution_count": null,
   "metadata": {},
   "outputs": [
    {
     "name": "stderr",
     "output_type": "stream",
     "text": []
    },
    {
     "data": {
      "application/vnd.jupyter.widget-view+json": {
       "model_id": "0f669c6c8ac548deabc2f4b11b78a738",
       "version_major": 2,
       "version_minor": 0
      },
      "text/plain": [
       "  0%|          | 0/39 [00:00<?, ?it/s]"
      ]
     },
     "metadata": {},
     "output_type": "display_data"
    }
   ],
   "source": [
    "\n",
    "datasets = [\n",
    "    (\"aug1\", X_train_aug1),\n",
    "    (\"aug2\", X_train_aug2),\n",
    "    (\"aug3\", X_train_aug3)\n",
    "]\n",
    "\n",
    "\n",
    "tasks = [\n",
    "    (k, m, name, X_aug)\n",
    "    for k in range(5, 21)\n",
    "    for m in [1,2]\n",
    "    for name, X_aug in datasets\n",
    "]\n",
    "\n",
    "\n",
    "with tqdm_joblib(tqdm(desc=\"Computing kernels\", total=len(tasks))) as progress_bar:\n",
    "    results = Parallel(n_jobs=1)(\n",
    "        delayed(u.compute_and_save_kernel)(mismatch_kernel, name, X_aug, k=k, m=m, normalize=True)\n",
    "        for k, m, name, X_aug in tasks\n",
    "    )\n",
    "\n"
   ]
  },
  {
   "cell_type": "markdown",
   "metadata": {},
   "source": [
    "#### Spectrum"
   ]
  },
  {
   "cell_type": "code",
   "execution_count": null,
   "metadata": {},
   "outputs": [
    {
     "name": "stderr",
     "output_type": "stream",
     "text": []
    },
    {
     "data": {
      "application/vnd.jupyter.widget-view+json": {
       "model_id": "937ee6c0e18e42b49b929c631e633a8d",
       "version_major": 2,
       "version_minor": 0
      },
      "text/plain": [
       "  0%|          | 0/48 [00:00<?, ?it/s]"
      ]
     },
     "metadata": {},
     "output_type": "display_data"
    }
   ],
   "source": [
    "datasets = [\n",
    "    (\"aug1\", X_train_aug1),\n",
    "    (\"aug2\", X_train_aug2),\n",
    "    (\"aug3\", X_train_aug3)\n",
    "]\n",
    "\n",
    "tasks = [\n",
    "    (k, name, X_aug)\n",
    "    for k in range(5, 21)\n",
    "    for name, X_aug in datasets\n",
    "]\n",
    "\n",
    "with tqdm_joblib(tqdm(total=len(tasks), desc=\"Computing spectrum kernels\", position=1)) as progress_bar:\n",
    "    results = Parallel(n_jobs=12)(\n",
    "        delayed(u.compute_and_save_kernel)(spectrum_kernel, name, X_aug, k=k)\n",
    "        for k, name, X_aug in tasks\n",
    "    )"
   ]
  },
  {
   "cell_type": "markdown",
   "metadata": {},
   "source": [
    "#### Weighted Degree Kernel"
   ]
  },
  {
   "cell_type": "code",
   "execution_count": null,
   "metadata": {},
   "outputs": [
    {
     "name": "stderr",
     "output_type": "stream",
     "text": []
    },
    {
     "data": {
      "application/vnd.jupyter.widget-view+json": {
       "model_id": "d89b256a8b87400ea57b5d0cba9ea996",
       "version_major": 2,
       "version_minor": 0
      },
      "text/plain": [
       "  0%|          | 0/6 [00:00<?, ?it/s]"
      ]
     },
     "metadata": {},
     "output_type": "display_data"
    }
   ],
   "source": [
    "datasets = [\n",
    "    (\"aug1\", X_train_aug1),\n",
    "    (\"aug2\", X_train_aug2),\n",
    "    (\"aug3\", X_train_aug3)\n",
    "]\n",
    "\n",
    "tasks = [\n",
    "    (d, name, X_aug)\n",
    "    for d in range(3, 13)\n",
    "    for name, X_aug in datasets\n",
    "]\n",
    "\n",
    "with tqdm_joblib(tqdm(total=len(tasks), desc=\"Computing weighted degree kernels\", position=1)) as progress_bar:\n",
    "    results = Parallel(n_jobs=12)(\n",
    "        delayed(u.compute_and_save_kernel)(weighted_degree_kernel, name, X_aug, d=d, normalize=True)\n",
    "        for d, name, X_aug in tasks\n",
    "    )"
   ]
  },
  {
   "cell_type": "markdown",
   "metadata": {},
   "source": [
    "### Hyper-parameter Tuning \n",
    "#### Stage one : Optimize individual Kernel Parameters with C fixed"
   ]
  },
  {
   "cell_type": "markdown",
   "metadata": {},
   "source": [
    "#### Dataset 1 "
   ]
  },
  {
   "cell_type": "markdown",
   "metadata": {},
   "source": [
    "Mismatch Kernel"
   ]
  },
  {
   "cell_type": "code",
   "execution_count": null,
   "metadata": {},
   "outputs": [
    {
     "name": "stdout",
     "output_type": "stream",
     "text": [
      "Parameters: k = 5, m = 1, Mean CV Accuracy: 0.6060\n",
      "Parameters: k = 5, m = 2, Mean CV Accuracy: 0.5884\n",
      "Parameters: k = 6, m = 1, Mean CV Accuracy: 0.6205\n",
      "Parameters: k = 6, m = 2, Mean CV Accuracy: 0.6031\n",
      "Parameters: k = 7, m = 1, Mean CV Accuracy: 0.6242\n",
      "Parameters: k = 7, m = 2, Mean CV Accuracy: 0.6085\n",
      "Parameters: k = 8, m = 1, Mean CV Accuracy: 0.6299\n",
      "Parameters: k = 8, m = 2, Mean CV Accuracy: 0.6265\n",
      "Parameters: k = 9, m = 1, Mean CV Accuracy: 0.6342\n",
      "Parameters: k = 9, m = 2, Mean CV Accuracy: 0.6330\n",
      "Parameters: k = 10, m = 1, Mean CV Accuracy: 0.6393\n",
      "Parameters: k = 10, m = 2, Mean CV Accuracy: 0.6430\n",
      "Parameters: k = 11, m = 1, Mean CV Accuracy: 0.6411\n",
      "Parameters: k = 11, m = 2, Mean CV Accuracy: 0.6490\n",
      "Parameters: k = 12, m = 1, Mean CV Accuracy: 0.6320\n",
      "Parameters: k = 12, m = 2, Mean CV Accuracy: 0.6444\n",
      "Parameters: k = 13, m = 1, Mean CV Accuracy: 0.6165\n",
      "Parameters: k = 13, m = 2, Mean CV Accuracy: 0.6346\n",
      "Parameters: k = 14, m = 1, Mean CV Accuracy: 0.5935\n",
      "Parameters: k = 14, m = 2, Mean CV Accuracy: 0.6192\n",
      "Parameters: k = 15, m = 1, Mean CV Accuracy: 0.5900\n",
      "Parameters: k = 15, m = 2, Mean CV Accuracy: 0.6105\n",
      "Parameters: k = 16, m = 1, Mean CV Accuracy: 0.5890\n",
      "Parameters: k = 16, m = 2, Mean CV Accuracy: 0.6001\n",
      "Parameters: k = 17, m = 1, Mean CV Accuracy: 0.5903\n",
      "Parameters: k = 17, m = 2, Mean CV Accuracy: 0.5987\n",
      "Parameters: k = 18, m = 1, Mean CV Accuracy: 0.5896\n",
      "Parameters: k = 18, m = 2, Mean CV Accuracy: 0.5982\n",
      "Parameters: k = 19, m = 1, Mean CV Accuracy: 0.5884\n",
      "Parameters: k = 19, m = 2, Mean CV Accuracy: 0.5981\n",
      "Parameters: k = 20, m = 1, Mean CV Accuracy: 0.5896\n",
      "Parameters: k = 20, m = 2, Mean CV Accuracy: 0.5956\n",
      "Best parameters: {'k': 11, 'm': 2}\n",
      "Best cross-validation accuracy: 0.649\n"
     ]
    }
   ],
   "source": [
    "k_values = range(5, 21)  \n",
    "m_values = [1, 2]\n",
    "normalize = True\n",
    "best_score = -np.inf\n",
    "best_params = {}\n",
    "\n",
    "for k in k_values:\n",
    "    for m in m_values:\n",
    "        C = 1  \n",
    "\n",
    "        kernel_file = f\"precomputed_kernels/mismatch_kernel_aug1_k{k}_m{m}_normalize{normalize}.npy\"\n",
    "        K = np.load(kernel_file)\n",
    "        \n",
    "        estimator = Kernel_SVM(kernel='precomputed', C=1)\n",
    "        \n",
    "        scores = cross_val_score_with_precomputed_kernel(estimator, K, y_train1, cv=5, n_jobs=12, n_iter=5)\n",
    "        mean_score = np.mean(scores)\n",
    "        \n",
    "        print(f\"Parameters: k = {k}, m = {m}, Mean CV Accuracy: {mean_score:.4f}\")\n",
    "        \n",
    "        if mean_score > best_score:\n",
    "            best_score = mean_score\n",
    "            best_params = {'k': k, 'm': m}\n",
    "\n",
    "print(\"Best parameters:\", best_params)\n",
    "print(\"Best cross-validation accuracy:\", best_score)\n"
   ]
  },
  {
   "cell_type": "markdown",
   "metadata": {},
   "source": [
    "Spectrum Kernel"
   ]
  },
  {
   "cell_type": "code",
   "execution_count": null,
   "metadata": {},
   "outputs": [
    {
     "name": "stdout",
     "output_type": "stream",
     "text": [
      "Parameters: k = 5  Mean CV Accuracy: 0.6214\n",
      "Parameters: k = 6  Mean CV Accuracy: 0.6232\n",
      "Parameters: k = 7  Mean CV Accuracy: 0.6180\n",
      "Parameters: k = 8  Mean CV Accuracy: 0.6255\n",
      "Parameters: k = 9  Mean CV Accuracy: 0.6159\n",
      "Parameters: k = 10  Mean CV Accuracy: 0.6085\n",
      "Parameters: k = 11  Mean CV Accuracy: 0.5957\n",
      "Parameters: k = 12  Mean CV Accuracy: 0.5896\n",
      "Parameters: k = 13  Mean CV Accuracy: 0.5854\n",
      "Parameters: k = 14  Mean CV Accuracy: 0.5833\n",
      "Parameters: k = 15  Mean CV Accuracy: 0.5823\n",
      "Parameters: k = 16  Mean CV Accuracy: 0.5825\n",
      "Parameters: k = 17  Mean CV Accuracy: 0.5815\n",
      "Parameters: k = 18  Mean CV Accuracy: 0.5807\n",
      "Parameters: k = 19  Mean CV Accuracy: 0.5799\n",
      "Best parameters: {'k': 8}\n",
      "Best cross-validation accuracy: 0.6255\n"
     ]
    }
   ],
   "source": [
    "k_values = range(5, 20)\n",
    "\n",
    "best_score = -np.inf\n",
    "best_params = {}\n",
    "\n",
    "for k in k_values:\n",
    "    C = 1\n",
    "\n",
    "    kernel_file = f\"precomputed_kernels/spectrum_kernel_aug1_k{k}.npy\"\n",
    "    K = np.load(kernel_file)\n",
    "    \n",
    "    estimator = Kernel_SVM(kernel='precomputed', C=C)\n",
    "    \n",
    "    scores = cross_val_score_with_precomputed_kernel(estimator, K, y_train1, cv=5, n_jobs=12, n_iter=5)\n",
    "    mean_score = np.mean(scores)\n",
    "    \n",
    "    print(f\"Parameters: k = {k}  Mean CV Accuracy: {mean_score:.4f}\")\n",
    "    \n",
    "    if mean_score > best_score:\n",
    "        best_score = mean_score\n",
    "        best_params = {'k': k}\n",
    "\n",
    "print(\"Best parameters:\", best_params)\n",
    "print(\"Best cross-validation accuracy:\", best_score)\n"
   ]
  },
  {
   "cell_type": "markdown",
   "metadata": {},
   "source": [
    "Weighted Degree Kernels"
   ]
  },
  {
   "cell_type": "code",
   "execution_count": null,
   "metadata": {},
   "outputs": [
    {
     "name": "stdout",
     "output_type": "stream",
     "text": [
      "Parameters: k = 3  Mean CV Accuracy: 0.5820\n",
      "Parameters: k = 4  Mean CV Accuracy: 0.5885\n",
      "Parameters: k = 5  Mean CV Accuracy: 0.5890\n",
      "Parameters: k = 6  Mean CV Accuracy: 0.5875\n",
      "Parameters: k = 7  Mean CV Accuracy: 0.5870\n",
      "Parameters: k = 8  Mean CV Accuracy: 0.5895\n",
      "Parameters: k = 9  Mean CV Accuracy: 0.5910\n",
      "Parameters: k = 10  Mean CV Accuracy: 0.5890\n",
      "Best parameters: {'k': 9}\n",
      "Best cross-validation accuracy: 0.591\n"
     ]
    }
   ],
   "source": [
    "k_values = range(3, 11)\n",
    "\n",
    "best_score = -np.inf\n",
    "best_params = {}\n",
    "\n",
    "for k in k_values:\n",
    "    C = 1\n",
    "    kernel_file = f\"precomputed_kernels/weighted_degree_kernel_aug1_d{k}_normalizeTrue.npy\"\n",
    "    K = np.load(kernel_file)\n",
    "    \n",
    "    estimator = Kernel_SVM(kernel='precomputed', C=C)\n",
    "    \n",
    "    scores = cross_val_score_with_precomputed_kernel(estimator, K, y_train1, cv=5, n_jobs=12, n_iter=1)\n",
    "    mean_score = np.mean(scores)\n",
    "    \n",
    "    print(f\"Parameters: k = {k}  Mean CV Accuracy: {mean_score:.4f}\")\n",
    "    \n",
    "    if mean_score > best_score:\n",
    "        best_score = mean_score\n",
    "        best_params = {'k': k}\n",
    "\n",
    "print(\"Best parameters:\", best_params)\n",
    "print(\"Best cross-validation accuracy:\", best_score)\n"
   ]
  },
  {
   "cell_type": "markdown",
   "metadata": {},
   "source": [
    "#### Dataset 2"
   ]
  },
  {
   "cell_type": "markdown",
   "metadata": {},
   "source": [
    "##### Mismatch Kernel"
   ]
  },
  {
   "cell_type": "code",
   "execution_count": null,
   "metadata": {},
   "outputs": [
    {
     "name": "stdout",
     "output_type": "stream",
     "text": [
      "Parameters: k = 5, m = 1, Mean CV Accuracy: 0.6907\n",
      "Parameters: k = 5, m = 2, Mean CV Accuracy: 0.6569\n",
      "Parameters: k = 6, m = 1, Mean CV Accuracy: 0.7056\n",
      "Parameters: k = 6, m = 2, Mean CV Accuracy: 0.6767\n",
      "Parameters: k = 7, m = 1, Mean CV Accuracy: 0.7257\n",
      "Parameters: k = 7, m = 2, Mean CV Accuracy: 0.6996\n",
      "Parameters: k = 8, m = 1, Mean CV Accuracy: 0.7476\n",
      "Parameters: k = 8, m = 2, Mean CV Accuracy: 0.7189\n",
      "Parameters: k = 9, m = 1, Mean CV Accuracy: 0.7669\n",
      "Parameters: k = 9, m = 2, Mean CV Accuracy: 0.7445\n",
      "Parameters: k = 10, m = 1, Mean CV Accuracy: 0.7749\n",
      "Parameters: k = 10, m = 2, Mean CV Accuracy: 0.7556\n",
      "Parameters: k = 11, m = 1, Mean CV Accuracy: 0.7636\n",
      "Parameters: k = 11, m = 2, Mean CV Accuracy: 0.7684\n",
      "Parameters: k = 12, m = 1, Mean CV Accuracy: 0.7553\n",
      "Parameters: k = 12, m = 2, Mean CV Accuracy: 0.7648\n",
      "Parameters: k = 13, m = 1, Mean CV Accuracy: 0.7507\n",
      "Parameters: k = 13, m = 2, Mean CV Accuracy: 0.7584\n",
      "Parameters: k = 14, m = 1, Mean CV Accuracy: 0.7386\n",
      "Parameters: k = 14, m = 2, Mean CV Accuracy: 0.7513\n",
      "Parameters: k = 15, m = 1, Mean CV Accuracy: 0.7275\n",
      "Parameters: k = 15, m = 2, Mean CV Accuracy: 0.7430\n",
      "Parameters: k = 16, m = 1, Mean CV Accuracy: 0.7171\n",
      "Parameters: k = 16, m = 2, Mean CV Accuracy: 0.7378\n",
      "Parameters: k = 17, m = 1, Mean CV Accuracy: 0.7111\n",
      "Parameters: k = 17, m = 2, Mean CV Accuracy: 0.7332\n",
      "Parameters: k = 18, m = 1, Mean CV Accuracy: 0.7061\n",
      "Parameters: k = 18, m = 2, Mean CV Accuracy: 0.7173\n",
      "Parameters: k = 19, m = 1, Mean CV Accuracy: 0.6994\n",
      "Parameters: k = 19, m = 2, Mean CV Accuracy: 0.7093\n",
      "Parameters: k = 20, m = 1, Mean CV Accuracy: 0.6983\n",
      "Parameters: k = 20, m = 2, Mean CV Accuracy: 0.7078\n",
      "Best parameters: {'k': 10, 'm': 1}\n",
      "Best cross-validation accuracy: 0.7749000000000001\n"
     ]
    }
   ],
   "source": [
    "k_values = range(5, 21)  \n",
    "m_values = [1, 2]\n",
    "normalize = True\n",
    "\n",
    "best_score = -np.inf\n",
    "best_params = {}\n",
    "\n",
    "for k in k_values:\n",
    "    for m in m_values:\n",
    "        C = 1  \n",
    "        kernel_file = f\"precomputed_kernels/mismatch_kernel_aug2_k{k}_m{m}_normalize{normalize}.npy\"\n",
    "        K = np.load(kernel_file)\n",
    "        \n",
    "        estimator = Kernel_SVM(kernel='precomputed', C=C)\n",
    "        \n",
    "        scores = cross_val_score_with_precomputed_kernel(estimator, K, y_train2, cv=5, n_jobs=12, n_iter=5)\n",
    "        mean_score = np.mean(scores)\n",
    "        \n",
    "        print(f\"Parameters: k = {k}, m = {m}, Mean CV Accuracy: {mean_score:.4f}\")\n",
    "        \n",
    "        if mean_score > best_score:\n",
    "            best_score = mean_score\n",
    "            best_params = {'k': k, 'm': m}\n",
    "\n",
    "print(\"Best parameters:\", best_params)\n",
    "print(\"Best cross-validation accuracy:\", best_score)\n"
   ]
  },
  {
   "cell_type": "markdown",
   "metadata": {},
   "source": [
    "Spectrum Kernel"
   ]
  },
  {
   "cell_type": "code",
   "execution_count": null,
   "metadata": {},
   "outputs": [
    {
     "name": "stdout",
     "output_type": "stream",
     "text": [
      "Parameters: k = 5  Mean CV Accuracy: 0.6884\n",
      "Parameters: k = 6  Mean CV Accuracy: 0.7101\n",
      "Parameters: k = 7  Mean CV Accuracy: 0.7364\n",
      "Parameters: k = 8  Mean CV Accuracy: 0.7549\n",
      "Parameters: k = 9  Mean CV Accuracy: 0.7606\n",
      "Parameters: k = 10  Mean CV Accuracy: 0.7531\n",
      "Parameters: k = 11  Mean CV Accuracy: 0.7359\n",
      "Parameters: k = 12  Mean CV Accuracy: 0.7215\n",
      "Parameters: k = 13  Mean CV Accuracy: 0.7064\n",
      "Parameters: k = 14  Mean CV Accuracy: 0.7003\n",
      "Parameters: k = 15  Mean CV Accuracy: 0.6985\n",
      "Parameters: k = 16  Mean CV Accuracy: 0.6984\n",
      "Parameters: k = 17  Mean CV Accuracy: 0.6979\n",
      "Parameters: k = 18  Mean CV Accuracy: 0.6971\n",
      "Parameters: k = 19  Mean CV Accuracy: 0.6967\n",
      "Best parameters: {'k': 9}\n",
      "Best cross-validation accuracy: 0.7606\n"
     ]
    }
   ],
   "source": [
    "k_values = range(5, 20)\n",
    "\n",
    "best_score = -np.inf\n",
    "best_params = {}\n",
    "\n",
    "for k in k_values:\n",
    "    C = 1\n",
    "    kernel_file = f\"precomputed_kernels/spectrum_kernel_aug2_k{k}.npy\"\n",
    "    K = np.load(kernel_file)\n",
    "    \n",
    "    estimator = Kernel_SVM(kernel='precomputed', C=C)\n",
    "    \n",
    "    scores = cross_val_score_with_precomputed_kernel(estimator, K, y_train2, cv=5, n_jobs=12, n_iter=5)\n",
    "    mean_score = np.mean(scores)\n",
    "    \n",
    "    print(f\"Parameters: k = {k}  Mean CV Accuracy: {mean_score:.4f}\")\n",
    "    \n",
    "    if mean_score > best_score:\n",
    "        best_score = mean_score\n",
    "        best_params = {'k': k}\n",
    "\n",
    "print(\"Best parameters:\", best_params)\n",
    "print(\"Best cross-validation accuracy:\", best_score)\n"
   ]
  },
  {
   "cell_type": "markdown",
   "metadata": {},
   "source": [
    "#### Dataset 3\n"
   ]
  },
  {
   "cell_type": "markdown",
   "metadata": {},
   "source": [
    "##### Mismatch Kernel"
   ]
  },
  {
   "cell_type": "code",
   "execution_count": null,
   "metadata": {},
   "outputs": [
    {
     "name": "stdout",
     "output_type": "stream",
     "text": [
      "Parameters: k = 5, m = 1, Mean CV Accuracy: 0.6236\n",
      "Parameters: k = 5, m = 2, Mean CV Accuracy: 0.6058\n",
      "Parameters: k = 6, m = 1, Mean CV Accuracy: 0.6215\n",
      "Parameters: k = 6, m = 2, Mean CV Accuracy: 0.6155\n",
      "Parameters: k = 7, m = 1, Mean CV Accuracy: 0.6266\n",
      "Parameters: k = 7, m = 2, Mean CV Accuracy: 0.6284\n",
      "Parameters: k = 8, m = 1, Mean CV Accuracy: 0.6375\n",
      "Parameters: k = 8, m = 2, Mean CV Accuracy: 0.6340\n",
      "Parameters: k = 9, m = 1, Mean CV Accuracy: 0.6476\n",
      "Parameters: k = 9, m = 2, Mean CV Accuracy: 0.6328\n",
      "Parameters: k = 10, m = 1, Mean CV Accuracy: 0.6541\n",
      "Parameters: k = 10, m = 2, Mean CV Accuracy: 0.6482\n",
      "Parameters: k = 11, m = 1, Mean CV Accuracy: 0.6599\n",
      "Parameters: k = 11, m = 2, Mean CV Accuracy: 0.6513\n",
      "Parameters: k = 12, m = 1, Mean CV Accuracy: 0.6584\n",
      "Parameters: k = 12, m = 2, Mean CV Accuracy: 0.6485\n",
      "Parameters: k = 13, m = 1, Mean CV Accuracy: 0.6511\n",
      "Parameters: k = 13, m = 2, Mean CV Accuracy: 0.6574\n",
      "Parameters: k = 14, m = 1, Mean CV Accuracy: 0.6641\n",
      "Parameters: k = 14, m = 2, Mean CV Accuracy: 0.6562\n",
      "Parameters: k = 15, m = 1, Mean CV Accuracy: 0.6767\n",
      "Parameters: k = 15, m = 2, Mean CV Accuracy: 0.6541\n",
      "Parameters: k = 16, m = 1, Mean CV Accuracy: 0.6806\n",
      "Parameters: k = 16, m = 2, Mean CV Accuracy: 0.6648\n",
      "Parameters: k = 17, m = 1, Mean CV Accuracy: 0.6821\n",
      "Parameters: k = 17, m = 2, Mean CV Accuracy: 0.6782\n",
      "Parameters: k = 18, m = 1, Mean CV Accuracy: 0.6799\n",
      "Parameters: k = 18, m = 2, Mean CV Accuracy: 0.6783\n",
      "Parameters: k = 19, m = 1, Mean CV Accuracy: 0.6785\n",
      "Parameters: k = 19, m = 2, Mean CV Accuracy: 0.6777\n",
      "Parameters: k = 20, m = 1, Mean CV Accuracy: 0.6760\n",
      "Parameters: k = 20, m = 2, Mean CV Accuracy: 0.6805\n",
      "Best parameters: {'k': 17, 'm': 1}\n",
      "Best cross-validation accuracy: 0.6820999999999999\n"
     ]
    }
   ],
   "source": [
    "k_values = range(5, 21)  \n",
    "m_values = [1, 2]\n",
    "normalize = True\n",
    "\n",
    "best_score = -np.inf\n",
    "best_params = {}\n",
    "\n",
    "for k in k_values:\n",
    "    for m in m_values:\n",
    "        C = 1  \n",
    "        kernel_file = f\"precomputed_kernels/mismatch_kernel_aug3_k{k}_m{m}_normalize{normalize}.npy\"\n",
    "        K = np.load(kernel_file)\n",
    "        \n",
    "        estimator = Kernel_SVM(kernel='precomputed', C=C)\n",
    "        \n",
    "        scores = cross_val_score_with_precomputed_kernel(estimator, K, y_train3, cv=5, n_jobs=12, n_iter=5)\n",
    "        mean_score = np.mean(scores)\n",
    "        \n",
    "        print(f\"Parameters: k = {k}, m = {m}, Mean CV Accuracy: {mean_score:.4f}\")\n",
    "        \n",
    "        if mean_score > best_score:\n",
    "            best_score = mean_score\n",
    "            best_params = {'k': k, 'm': m}\n",
    "\n",
    "print(\"Best parameters:\", best_params)\n",
    "print(\"Best cross-validation accuracy:\", best_score)\n"
   ]
  },
  {
   "cell_type": "markdown",
   "metadata": {},
   "source": [
    "Spectrum Kernel"
   ]
  },
  {
   "cell_type": "code",
   "execution_count": null,
   "metadata": {},
   "outputs": [
    {
     "name": "stdout",
     "output_type": "stream",
     "text": [
      "Parameters: k = 5  Mean CV Accuracy: 0.6167\n",
      "Parameters: k = 6  Mean CV Accuracy: 0.6119\n",
      "Parameters: k = 7  Mean CV Accuracy: 0.6318\n",
      "Parameters: k = 8  Mean CV Accuracy: 0.6515\n",
      "Parameters: k = 9  Mean CV Accuracy: 0.6621\n",
      "Parameters: k = 10  Mean CV Accuracy: 0.6738\n",
      "Parameters: k = 11  Mean CV Accuracy: 0.6795\n",
      "Parameters: k = 12  Mean CV Accuracy: 0.6846\n",
      "Parameters: k = 13  Mean CV Accuracy: 0.6836\n",
      "Parameters: k = 14  Mean CV Accuracy: 0.6802\n",
      "Parameters: k = 15  Mean CV Accuracy: 0.6768\n",
      "Parameters: k = 16  Mean CV Accuracy: 0.6729\n",
      "Parameters: k = 17  Mean CV Accuracy: 0.6721\n",
      "Parameters: k = 18  Mean CV Accuracy: 0.6693\n",
      "Parameters: k = 19  Mean CV Accuracy: 0.6672\n",
      "Best parameters: {'k': 12}\n",
      "Best cross-validation accuracy: 0.6846000000000001\n"
     ]
    }
   ],
   "source": [
    "k_values = range(5, 20)\n",
    "\n",
    "best_score = -np.inf\n",
    "best_params = {}\n",
    "\n",
    "for k in k_values:\n",
    "    C = 1\n",
    "    kernel_file = f\"precomputed_kernels/spectrum_kernel_aug3_k{k}.npy\"\n",
    "    K = np.load(kernel_file)\n",
    "    \n",
    "    estimator = Kernel_SVM(kernel='precomputed', C=C)\n",
    "    \n",
    "    scores = cross_val_score_with_precomputed_kernel(estimator, K, y_train3, cv=5, n_jobs=12, n_iter=5)\n",
    "    mean_score = np.mean(scores)\n",
    "    \n",
    "    print(f\"Parameters: k = {k}  Mean CV Accuracy: {mean_score:.4f}\")\n",
    "    \n",
    "    if mean_score > best_score:\n",
    "        best_score = mean_score\n",
    "        best_params = {'k': k}\n",
    "\n",
    "print(\"Best parameters:\", best_params)\n",
    "print(\"Best cross-validation accuracy:\", best_score)\n"
   ]
  },
  {
   "cell_type": "markdown",
   "metadata": {},
   "source": [
    "### Hyper-parameter Tuning \n",
    "#### Stage two : Find the best Meta Model\n"
   ]
  },
  {
   "cell_type": "markdown",
   "metadata": {},
   "source": [
    "#### Dataset 1 :\n"
   ]
  },
  {
   "cell_type": "markdown",
   "metadata": {},
   "source": [
    "Bagging : "
   ]
  },
  {
   "cell_type": "code",
   "execution_count": null,
   "metadata": {},
   "outputs": [
    {
     "name": "stdout",
     "output_type": "stream",
     "text": [
      "Base accuracy: 0.649\n",
      "n_estimators = 5: Mean Accuracy = 0.6425\n",
      "n_estimators = 6: Mean Accuracy = 0.6450\n",
      "n_estimators = 7: Mean Accuracy = 0.6472\n",
      "n_estimators = 8: Mean Accuracy = 0.6500\n",
      "n_estimators = 9: Mean Accuracy = 0.6413\n",
      "n_estimators = 10: Mean Accuracy = 0.6447\n",
      "\n",
      " Best n_estimators: 8 with mean accuracy: 0.65\n"
     ]
    }
   ],
   "source": [
    "C = 1 \n",
    "K = np.load(\"precomputed_kernels/mismatch_kernel_aug1_k11_m2_normalizeTrue.npy\")  \n",
    "\n",
    "candidate_n_estimators = np.arange(5, 11)\n",
    "results = {}\n",
    "\n",
    "\n",
    "model = Kernel_SVM(kernel='precomputed', C=C)\n",
    "base_accuracy = cross_val_score_with_precomputed_kernel(\n",
    "    model, K, y_train1, cv=5, n_jobs=13, n_iter=5)\n",
    "\n",
    "print(\"Base accuracy:\", base_accuracy)\n",
    "for n_est in candidate_n_estimators:\n",
    "    \n",
    "    hierarchical_clf = Hierarchical_Bagging_Kernel(\n",
    "        base_estimator=Kernel_SVM(kernel='precomputed', C=C),\n",
    "        n_estimators=n_est,\n",
    "        bootstrap=True,\n",
    "        augment_data=True,\n",
    "        random_state=None,  \n",
    "        n_jobs=1\n",
    "    )\n",
    "\n",
    "    accuracy = cross_val_score_with_precomputed_kernel(\n",
    "        hierarchical_clf, K, y_train1, cv=5, n_jobs=13, n_iter=2\n",
    "    )\n",
    "    \n",
    "    results[n_est] = accuracy\n",
    "    print(f\"n_estimators = {n_est}: Mean Accuracy = {accuracy:.4f}\")\n",
    "\n",
    "best_n = max(results, key=results.get)\n",
    "print(\"\\n Best n_estimators:\", best_n, \"with mean accuracy:\", results[best_n])\n",
    "\n"
   ]
  },
  {
   "cell_type": "markdown",
   "metadata": {},
   "source": [
    "Sum of Kernels"
   ]
  },
  {
   "cell_type": "code",
   "execution_count": null,
   "metadata": {},
   "outputs": [
    {
     "name": "stdout",
     "output_type": "stream",
     "text": [
      "\n",
      "Starting with fixed kernels [{'type': 'mismatch', 'k': 11, 'm': 2}, {'type': 'mismatch', 'k': 20, 'm': 1}, {'type': 'mismatch', 'k': 12, 'm': 2}, {'type': 'mismatch', 'k': 5, 'm': 1}] CV score: 0.6585\n"
     ]
    },
    {
     "name": "stderr",
     "output_type": "stream",
     "text": [
      "                                                                             \r"
     ]
    },
    {
     "name": "stdout",
     "output_type": "stream",
     "text": [
      "Selected kernel {'type': 'mismatch', 'k': 11, 'm': 1}; combination size: 5; CV score: 0.6600\n",
      "\n"
     ]
    },
    {
     "name": "stderr",
     "output_type": "stream",
     "text": [
      "                                                                             \r"
     ]
    },
    {
     "name": "stdout",
     "output_type": "stream",
     "text": [
      "Selected kernel {'type': 'mismatch', 'k': 17, 'm': 1}; combination size: 6; CV score: 0.6623\n",
      "\n"
     ]
    },
    {
     "name": "stderr",
     "output_type": "stream",
     "text": [
      "                                                                             \r"
     ]
    },
    {
     "name": "stdout",
     "output_type": "stream",
     "text": [
      "Selected kernel {'type': 'mismatch', 'k': 10, 'm': 1}; combination size: 7; CV score: 0.6620\n",
      "\n"
     ]
    },
    {
     "name": "stderr",
     "output_type": "stream",
     "text": [
      "                                                                             \r"
     ]
    },
    {
     "name": "stdout",
     "output_type": "stream",
     "text": [
      "Selected kernel {'type': 'spectrum', 'k': 11}; combination size: 8; CV score: 0.6640\n",
      "\n"
     ]
    },
    {
     "name": "stderr",
     "output_type": "stream",
     "text": [
      "                                                                             \r"
     ]
    },
    {
     "name": "stdout",
     "output_type": "stream",
     "text": [
      "Selected kernel {'type': 'mismatch', 'k': 5, 'm': 2}; combination size: 9; CV score: 0.6620\n",
      "\n"
     ]
    },
    {
     "name": "stderr",
     "output_type": "stream",
     "text": [
      "                                                                             \r"
     ]
    },
    {
     "name": "stdout",
     "output_type": "stream",
     "text": [
      "Selected kernel {'type': 'mismatch', 'k': 10, 'm': 2}; combination size: 10; CV score: 0.6632\n",
      "\n",
      "Final selected combination of 10 kernels:\n",
      "Kernel 1: {'type': 'mismatch', 'k': 11, 'm': 2}\n",
      "Kernel 2: {'type': 'mismatch', 'k': 20, 'm': 1}\n",
      "Kernel 3: {'type': 'mismatch', 'k': 12, 'm': 2}\n",
      "Kernel 4: {'type': 'mismatch', 'k': 5, 'm': 1}\n",
      "Kernel 5: {'type': 'mismatch', 'k': 11, 'm': 1}\n",
      "Kernel 6: {'type': 'mismatch', 'k': 17, 'm': 1}\n",
      "Kernel 7: {'type': 'mismatch', 'k': 10, 'm': 1}\n",
      "Kernel 8: {'type': 'spectrum', 'k': 11}\n",
      "Kernel 9: {'type': 'mismatch', 'k': 5, 'm': 2}\n",
      "Kernel 10: {'type': 'mismatch', 'k': 10, 'm': 2}\n",
      "Candidate kernels have been unloaded from memory.\n"
     ]
    }
   ],
   "source": [
    "candidate_kernels = []\n",
    "\n",
    "# Load mismatch kernels for k = 5...20 and m = 1,2.\n",
    "for k in range(5, 21):\n",
    "    for m in [1, 2]:\n",
    "        try:\n",
    "            K = u.load_kernel('mismatch', 1, k, m)\n",
    "            info = {'type': 'mismatch', 'k': k, 'm': m}\n",
    "            candidate_kernels.append((K, info))\n",
    "        except Exception as e:\n",
    "            print(f\"Could not load mismatch kernel: k={k}, m={m}. Error: {e}\")\n",
    "\n",
    "# Load spectrum kernels for k = 5...20.\n",
    "for k in range(5, 21):\n",
    "    try:\n",
    "        K = u.load_kernel('spectrum', 1, k)\n",
    "        info = {'type': 'spectrum', 'k': k}\n",
    "        candidate_kernels.append((K, info))\n",
    "    except Exception as e:\n",
    "        print(f\"Could not load spectrum kernel: k={k}. Error: {e}\")\n",
    "\n",
    "# Load weighted degree kernels for d = 3...12.\n",
    "for d in range(3, 13):\n",
    "    try:\n",
    "        K = u.load_kernel('weighted_degree', 1, d=d)\n",
    "        info = {'type': 'weighted_degree', 'd': d}\n",
    "        candidate_kernels.append((K, info))\n",
    "    except Exception as e:\n",
    "        print(f\"Could not load weighted degree kernel: d={d}. Error: {e}\")\n",
    "\n",
    "# Define the starting kernel \n",
    "start_kernel_specs = [\n",
    "    {'type': 'mismatch', 'k': 11, 'm': 2},\n",
    "    {'type': 'mismatch', 'k': 20, 'm': 1},\n",
    "    {'type': 'mismatch', 'k': 12, 'm': 2},\n",
    "    {'type': 'mismatch', 'k': 5, 'm': 1}\n",
    "]\n",
    "\n",
    "# Select the fixed starting kernels.\n",
    "start_kernels = []\n",
    "for spec in start_kernel_specs:\n",
    "    found = False\n",
    "    for idx, candidate in enumerate(candidate_kernels):\n",
    "        info = candidate[1]\n",
    "        if info['type'] == spec['type'] and info.get('k') == spec['k'] and info.get('m') == spec['m']:\n",
    "            start_kernels.append(candidate)\n",
    "            # Remove the candidate from the list.\n",
    "            candidate_kernels.pop(idx)\n",
    "            found = True\n",
    "            break\n",
    "    if not found:\n",
    "        raise ValueError(f\"Mismatch kernel with k={spec['k']}, m={spec['m']} was not found!\")\n",
    "\n",
    "selected_kernels = start_kernels.copy()\n",
    "\n",
    "# Evaluate baseline CV score using the combined starting kernels.\n",
    "combined_start_kernel = np.sum([sk[0] for sk in start_kernels], axis=0) / len(start_kernels)\n",
    "base_score = cross_val_score_with_precomputed_kernel(\n",
    "    estimator=Kernel_SVM(kernel='precomputed', C=1),\n",
    "    K=combined_start_kernel,\n",
    "    y=y_train1,\n",
    "    n_jobs=12,\n",
    "    n_iter=2\n",
    ")\n",
    "print(f\"\\nStarting with fixed kernels {[sk[1] for sk in start_kernels]} CV score: {base_score:.4f}\")\n",
    "\n",
    "# Greedy forward selection to build an ensemble of 10 kernels.\n",
    "while len(selected_kernels) < 10:\n",
    "    best_candidate = None\n",
    "    best_candidate_score = -np.inf\n",
    "\n",
    "    for candidate in tqdm(candidate_kernels, desc=\"Evaluating candidate kernels\", leave=False):\n",
    "        # Combine current selected kernels with the candidate by summing and averaging.\n",
    "        current_kernels = [sk[0] for sk in selected_kernels] + [candidate[0]]\n",
    "        combined_kernel = np.sum(current_kernels, axis=0) / len(current_kernels)\n",
    "\n",
    "        score = cross_val_score_with_precomputed_kernel(\n",
    "            estimator=Kernel_SVM(kernel='precomputed', C=1),\n",
    "            K=combined_kernel,\n",
    "            y=y_train1,\n",
    "            n_jobs=12,\n",
    "            n_iter=2\n",
    "        )\n",
    "        if score > best_candidate_score:\n",
    "            best_candidate_score = score\n",
    "            best_candidate = candidate\n",
    "\n",
    "    # Add the best candidate to the ensemble.\n",
    "    selected_kernels.append(best_candidate)\n",
    "    # Remove the best candidate from the candidate list.\n",
    "    candidate_kernels = [c for c in candidate_kernels if c[1] != best_candidate[1]]\n",
    "    print(f\"Selected kernel {best_candidate[1]}; combination size: {len(selected_kernels)}; CV score: {best_candidate_score:.4f}\\n\")\n",
    "\n",
    "print(\"Final selected combination of 10 kernels:\")\n",
    "for idx, sk in enumerate(selected_kernels):\n",
    "    print(f\"Kernel {idx+1}: {sk[1]}\")\n",
    "\n",
    "del candidate_kernels\n",
    "gc.collect()\n",
    "print(\"Candidate kernels have been unloaded from memory.\")\n"
   ]
  },
  {
   "cell_type": "markdown",
   "metadata": {},
   "source": [
    "Ensemble"
   ]
  },
  {
   "cell_type": "code",
   "execution_count": null,
   "metadata": {},
   "outputs": [
    {
     "name": "stderr",
     "output_type": "stream",
     "text": [
      "Precomputing CV predictions: 100%|██████████| 48/48 [21:02<00:00, 26.29s/it]\n"
     ]
    },
    {
     "name": "stdout",
     "output_type": "stream",
     "text": [
      "Starting kernel accuracy: 0.6505\n",
      "Ensemble accuracy with 2 kernels: 0.6500\n",
      "Ensemble accuracy with 3 kernels: 0.6495\n",
      "Ensemble accuracy with 4 kernels: 0.6550\n",
      "Ensemble accuracy with 5 kernels: 0.6595\n",
      "Ensemble accuracy with 6 kernels: 0.6615\n",
      "Ensemble accuracy with 7 kernels: 0.6580\n",
      "Ensemble accuracy with 8 kernels: 0.6625\n",
      "\n",
      "Final ensemble accuracy: 0.6625\n",
      "Final selected ensemble kernels:\n",
      "{'type': 'mismatch', 'k': 11, 'm': 2}\n",
      "{'type': 'spectrum', 'k': 12}\n",
      "{'type': 'mismatch', 'k': 11, 'm': 1}\n",
      "{'type': 'spectrum', 'k': 5}\n",
      "{'type': 'spectrum', 'k': 8}\n",
      "{'type': 'mismatch', 'k': 18, 'm': 2}\n",
      "{'type': 'mismatch', 'k': 12, 'm': 2}\n",
      "{'type': 'mismatch', 'k': 13, 'm': 1}\n",
      "Candidate kernels have been unloaded from memory.\n"
     ]
    }
   ],
   "source": [
    "candidate_kernels = []\n",
    "\n",
    "# Load mismatch kernels for k = 5...20 and m = 1,2.\n",
    "for k in range(5, 21):\n",
    "    for m in [1, 2]:\n",
    "        try:\n",
    "            K = u.load_kernel('mismatch', 1, k, m)\n",
    "            info = {'type': 'mismatch', 'k': k, 'm': m}\n",
    "            candidate_kernels.append((K, info))\n",
    "        except Exception as e:\n",
    "            print(f\"Could not load mismatch kernel: k={k}, m={m}. Error: {e}\")\n",
    "\n",
    "# Load spectrum kernels for k = 5...20.\n",
    "for k in range(5, 21):\n",
    "    try:\n",
    "        K = u.load_kernel('spectrum', 1, k)\n",
    "        info = {'type': 'spectrum', 'k': k}\n",
    "        candidate_kernels.append((K, info))\n",
    "    except Exception as e:\n",
    "        print(f\"Could not load spectrum kernel: k={k}. Error: {e}\")\n",
    "\n",
    "\n",
    "# Precompute predictions using the first 1000 labels.\n",
    "candidate_kernels_with_preds = u.precompute_cv_predictions(candidate_kernels, y_train1)\n",
    "\n",
    "start_kernel = None\n",
    "start_idx = None\n",
    "for idx, candidate in enumerate(candidate_kernels_with_preds):\n",
    "    K, info, y_pred = candidate\n",
    "    if info['type'] == 'mismatch' and info['k'] == 11 and info.get('m') == 2:\n",
    "        start_kernel = candidate\n",
    "        start_idx = idx\n",
    "        break\n",
    "if start_kernel is None:\n",
    "    raise ValueError(\"Mismatch kernel with k=10, m=1 was not found!\")\n",
    "\n",
    "# Initialize the ensemble with the starting kernel.\n",
    "selected_kernels = [start_kernel]\n",
    "del candidate_kernels_with_preds[start_idx]\n",
    "\n",
    "# Evaluate and print starting kernel accuracy\n",
    "base_score = accuracy_score(y_train1, start_kernel[2])\n",
    "print(f\"Starting kernel accuracy: {base_score:.4f}\")\n",
    "\n",
    "while len(selected_kernels) < 12 and candidate_kernels_with_preds:\n",
    "    if selected_kernels:\n",
    "        current_preds_list = [sk[2] for sk in selected_kernels]\n",
    "        current_stacked_preds = np.vstack(current_preds_list)\n",
    "        current_ensemble_preds, _ = mode(current_stacked_preds, axis=0)\n",
    "        current_ensemble_preds = current_ensemble_preds.ravel()\n",
    "        current_score = accuracy_score(y_train1, current_ensemble_preds)\n",
    "    else:\n",
    "        current_score = 0\n",
    "\n",
    "    best_candidate = None\n",
    "    best_candidate_score = -1  \n",
    "\n",
    "    # Evaluate each candidate kernel.\n",
    "    for candidate in candidate_kernels_with_preds:\n",
    "        preds_list = ([sk[2] for sk in selected_kernels] + [candidate[2]]) if selected_kernels else [candidate[2]]\n",
    "        stacked_preds = np.vstack(preds_list)\n",
    "        ensemble_preds, _ = mode(stacked_preds, axis=0)\n",
    "        ensemble_preds = ensemble_preds.ravel()\n",
    "        score = accuracy_score(y_train1, ensemble_preds)\n",
    "        \n",
    "        if score >= best_candidate_score:\n",
    "            best_candidate_score = score\n",
    "            best_candidate = candidate\n",
    "\n",
    "\n",
    "    # Add the best candidate to the selected kernels.\n",
    "    selected_kernels.append(best_candidate)\n",
    "    # Remove the selected candidate from further consideration.\n",
    "    candidate_kernels_with_preds = [c for c in candidate_kernels_with_preds if c[1] != best_candidate[1]]\n",
    "    \n",
    "    print(f\"Ensemble accuracy with {len(selected_kernels)} kernels: {best_candidate_score:.4f}\")\n",
    "\n",
    "# Evaluate final ensemble accuracy.\n",
    "final_preds_list = [sk[2] for sk in selected_kernels]\n",
    "final_stacked_preds = np.vstack(final_preds_list)\n",
    "final_ensemble_preds, _ = mode(final_stacked_preds, axis=0)\n",
    "final_ensemble_preds = final_ensemble_preds.ravel()\n",
    "final_score = accuracy_score(y_train1, final_ensemble_preds)\n",
    "\n",
    "print(f\"\\nFinal ensemble accuracy: {final_score:.4f}\")\n",
    "print(\"Final selected ensemble kernels:\")\n",
    "for sk in selected_kernels:\n",
    "    print(sk[1])\n",
    "\n",
    "del candidate_kernels\n",
    "gc.collect()\n",
    "print(\"Candidate kernels have been unloaded from memory.\")\n"
   ]
  },
  {
   "cell_type": "markdown",
   "metadata": {},
   "source": [
    "#### Dataset 2 :\n"
   ]
  },
  {
   "cell_type": "markdown",
   "metadata": {},
   "source": [
    "Bagging : "
   ]
  },
  {
   "cell_type": "code",
   "execution_count": null,
   "metadata": {},
   "outputs": [
    {
     "name": "stdout",
     "output_type": "stream",
     "text": [
      "Base accuracy: 0.7734999999999999\n",
      "\n",
      "\n",
      "n_estimators = 5: Mean Accuracy = 0.7560\n",
      "n_estimators = 6: Mean Accuracy = 0.7568\n",
      "n_estimators = 7: Mean Accuracy = 0.7543\n",
      "n_estimators = 8: Mean Accuracy = 0.7612\n",
      "n_estimators = 9: Mean Accuracy = 0.7532\n",
      "n_estimators = 10: Mean Accuracy = 0.7490\n",
      "\n",
      " Best n_estimators: 8 with mean accuracy: 0.76125\n"
     ]
    }
   ],
   "source": [
    "C = 1  \n",
    "K = np.load(\"precomputed_kernels/mismatch_kernel_aug2_k10_m1_normalizeTrue.npy\")  #\n",
    "\n",
    "candidate_n_estimators = np.arange(5, 11)\n",
    "results = {}\n",
    "\n",
    "\n",
    "model = Kernel_SVM(kernel='precomputed', C=C)\n",
    "base_accuracy = cross_val_score_with_precomputed_kernel(\n",
    "    model, K, y_train2, cv=5, n_jobs=13, n_iter=2)\n",
    "\n",
    "print(\"Base accuracy:\", base_accuracy)\n",
    "print(\"\\n\")\n",
    "\n",
    "for n_est in candidate_n_estimators:\n",
    "    \n",
    "    hierarchical_clf = Hierarchical_Bagging_Kernel(\n",
    "        base_estimator=Kernel_SVM(kernel='precomputed', C=C),\n",
    "        n_estimators=n_est,\n",
    "        bootstrap=True,\n",
    "        augment_data=True,\n",
    "        random_state=None,  \n",
    "        n_jobs=1\n",
    "    )\n",
    "\n",
    "    accuracy = cross_val_score_with_precomputed_kernel(\n",
    "        hierarchical_clf, K, y_train2, cv=5, n_jobs=13, n_iter=2\n",
    "    )\n",
    "    \n",
    "    results[n_est] = accuracy\n",
    "    print(f\"n_estimators = {n_est}: Mean Accuracy = {accuracy:.4f}\")\n",
    "\n",
    "# Determine best candidate based on average accuracy.\n",
    "best_n = max(results, key=results.get)\n",
    "print(\"\\n Best n_estimators:\", best_n, \"with mean accuracy:\", results[best_n])\n",
    "\n"
   ]
  },
  {
   "cell_type": "markdown",
   "metadata": {},
   "source": [
    "Sum of Kernels"
   ]
  },
  {
   "cell_type": "code",
   "execution_count": null,
   "metadata": {},
   "outputs": [
    {
     "name": "stdout",
     "output_type": "stream",
     "text": [
      "\n",
      "Starting with fixed kernels [{'type': 'mismatch', 'k': 10, 'm': 1}, {'type': 'mismatch', 'k': 17, 'm': 1}, {'type': 'mismatch', 'k': 5, 'm': 2}, {'type': 'mismatch', 'k': 11, 'm': 1}, {'type': 'spectrum', 'k': 13}, {'type': 'mismatch', 'k': 9, 'm': 1}, {'type': 'spectrum', 'k': 16}, {'type': 'spectrum', 'k': 12}, {'type': 'spectrum', 'k': 11}, {'type': 'mismatch', 'k': 10, 'm': 2}] CV score: 0.7880\n"
     ]
    },
    {
     "name": "stderr",
     "output_type": "stream",
     "text": [
      "                                                                             \r"
     ]
    },
    {
     "name": "stdout",
     "output_type": "stream",
     "text": [
      "Selected kernel {'type': 'weighted_degree', 'd': 12}; combination size: 11; CV score: 0.7883\n",
      "\n"
     ]
    },
    {
     "name": "stderr",
     "output_type": "stream",
     "text": [
      "                                                                             \r"
     ]
    },
    {
     "name": "stdout",
     "output_type": "stream",
     "text": [
      "Selected kernel {'type': 'spectrum', 'k': 10}; combination size: 12; CV score: 0.7880\n",
      "\n"
     ]
    },
    {
     "name": "stderr",
     "output_type": "stream",
     "text": [
      "                                                                    \r"
     ]
    },
    {
     "ename": "KeyboardInterrupt",
     "evalue": "",
     "output_type": "error",
     "traceback": [
      "\u001b[1;31m---------------------------------------------------------------------------\u001b[0m",
      "\u001b[1;31mKeyboardInterrupt\u001b[0m                         Traceback (most recent call last)",
      "Cell \u001b[1;32mIn[8], line 107\u001b[0m\n\u001b[0;32m    104\u001b[0m current_kernels \u001b[38;5;241m=\u001b[39m [sk[\u001b[38;5;241m0\u001b[39m] \u001b[38;5;28;01mfor\u001b[39;00m sk \u001b[38;5;129;01min\u001b[39;00m selected_kernels] \u001b[38;5;241m+\u001b[39m [candidate[\u001b[38;5;241m0\u001b[39m]]\n\u001b[0;32m    105\u001b[0m combined_kernel \u001b[38;5;241m=\u001b[39m np\u001b[38;5;241m.\u001b[39msum(current_kernels, axis\u001b[38;5;241m=\u001b[39m\u001b[38;5;241m0\u001b[39m) \u001b[38;5;241m/\u001b[39m \u001b[38;5;28mlen\u001b[39m(current_kernels)\n\u001b[1;32m--> 107\u001b[0m score \u001b[38;5;241m=\u001b[39m \u001b[43mcross_val_score_with_precomputed_kernel\u001b[49m\u001b[43m(\u001b[49m\n\u001b[0;32m    108\u001b[0m \u001b[43m    \u001b[49m\u001b[43mestimator\u001b[49m\u001b[38;5;241;43m=\u001b[39;49m\u001b[43mKernel_SVM\u001b[49m\u001b[43m(\u001b[49m\u001b[43mkernel\u001b[49m\u001b[38;5;241;43m=\u001b[39;49m\u001b[38;5;124;43m'\u001b[39;49m\u001b[38;5;124;43mprecomputed\u001b[39;49m\u001b[38;5;124;43m'\u001b[39;49m\u001b[43m,\u001b[49m\u001b[43m \u001b[49m\u001b[43mC\u001b[49m\u001b[38;5;241;43m=\u001b[39;49m\u001b[38;5;241;43m1\u001b[39;49m\u001b[43m)\u001b[49m\u001b[43m,\u001b[49m\n\u001b[0;32m    109\u001b[0m \u001b[43m    \u001b[49m\u001b[43mK\u001b[49m\u001b[38;5;241;43m=\u001b[39;49m\u001b[43mcombined_kernel\u001b[49m\u001b[43m,\u001b[49m\n\u001b[0;32m    110\u001b[0m \u001b[43m    \u001b[49m\u001b[43my\u001b[49m\u001b[38;5;241;43m=\u001b[39;49m\u001b[43my_train2\u001b[49m\u001b[43m,\u001b[49m\n\u001b[0;32m    111\u001b[0m \u001b[43m    \u001b[49m\u001b[43mn_jobs\u001b[49m\u001b[38;5;241;43m=\u001b[39;49m\u001b[38;5;241;43m12\u001b[39;49m\u001b[43m,\u001b[49m\n\u001b[0;32m    112\u001b[0m \u001b[43m    \u001b[49m\u001b[43mn_iter\u001b[49m\u001b[38;5;241;43m=\u001b[39;49m\u001b[38;5;241;43m2\u001b[39;49m\n\u001b[0;32m    113\u001b[0m \u001b[43m\u001b[49m\u001b[43m)\u001b[49m\n\u001b[0;32m    114\u001b[0m \u001b[38;5;28;01mif\u001b[39;00m score \u001b[38;5;241m>\u001b[39m best_candidate_score:\n\u001b[0;32m    115\u001b[0m     best_candidate_score \u001b[38;5;241m=\u001b[39m score\n",
      "File \u001b[1;32mc:\\Users\\1411\\Desktop\\Kernel_Method_Challenge\\cross_validation.py:149\u001b[0m, in \u001b[0;36mcross_val_score_with_precomputed_kernel\u001b[1;34m(estimator, K, y, cv, random_state, n_jobs, verbose, n_iter)\u001b[0m\n\u001b[0;32m    146\u001b[0m         \u001b[38;5;28;01mreturn\u001b[39;00m np\u001b[38;5;241m.\u001b[39mnan\n\u001b[0;32m    148\u001b[0m \u001b[38;5;66;03m# Run all tasks in parallel.\u001b[39;00m\n\u001b[1;32m--> 149\u001b[0m all_scores \u001b[38;5;241m=\u001b[39m \u001b[43mParallel\u001b[49m\u001b[43m(\u001b[49m\u001b[43mn_jobs\u001b[49m\u001b[38;5;241;43m=\u001b[39;49m\u001b[43mn_jobs\u001b[49m\u001b[43m,\u001b[49m\u001b[43m \u001b[49m\u001b[43mverbose\u001b[49m\u001b[38;5;241;43m=\u001b[39;49m\u001b[43mverbose\u001b[49m\u001b[43m,\u001b[49m\u001b[43m \u001b[49m\u001b[43mbackend\u001b[49m\u001b[38;5;241;43m=\u001b[39;49m\u001b[38;5;124;43m\"\u001b[39;49m\u001b[38;5;124;43mloky\u001b[39;49m\u001b[38;5;124;43m\"\u001b[39;49m\u001b[43m)\u001b[49m\u001b[43m(\u001b[49m\n\u001b[0;32m    150\u001b[0m \u001b[43m    \u001b[49m\u001b[43mdelayed\u001b[49m\u001b[43m(\u001b[49m\u001b[43mfit_and_score\u001b[49m\u001b[43m)\u001b[49m\u001b[43m(\u001b[49m\u001b[43mtrain_idx\u001b[49m\u001b[43m,\u001b[49m\u001b[43m \u001b[49m\u001b[43mtest_idx\u001b[49m\u001b[43m)\u001b[49m\u001b[43m \u001b[49m\u001b[38;5;28;43;01mfor\u001b[39;49;00m\u001b[43m \u001b[49m\u001b[43mtrain_idx\u001b[49m\u001b[43m,\u001b[49m\u001b[43m \u001b[49m\u001b[43mtest_idx\u001b[49m\u001b[43m \u001b[49m\u001b[38;5;129;43;01min\u001b[39;49;00m\u001b[43m \u001b[49m\u001b[43mtasks\u001b[49m\n\u001b[0;32m    151\u001b[0m \u001b[43m\u001b[49m\u001b[43m)\u001b[49m\n\u001b[0;32m    153\u001b[0m \u001b[38;5;28;01mreturn\u001b[39;00m np\u001b[38;5;241m.\u001b[39mmean(all_scores)\n",
      "File \u001b[1;32m~\\AppData\\Roaming\\Python\\Python312\\site-packages\\joblib\\parallel.py:2007\u001b[0m, in \u001b[0;36mParallel.__call__\u001b[1;34m(self, iterable)\u001b[0m\n\u001b[0;32m   2001\u001b[0m \u001b[38;5;66;03m# The first item from the output is blank, but it makes the interpreter\u001b[39;00m\n\u001b[0;32m   2002\u001b[0m \u001b[38;5;66;03m# progress until it enters the Try/Except block of the generator and\u001b[39;00m\n\u001b[0;32m   2003\u001b[0m \u001b[38;5;66;03m# reaches the first `yield` statement. This starts the asynchronous\u001b[39;00m\n\u001b[0;32m   2004\u001b[0m \u001b[38;5;66;03m# dispatch of the tasks to the workers.\u001b[39;00m\n\u001b[0;32m   2005\u001b[0m \u001b[38;5;28mnext\u001b[39m(output)\n\u001b[1;32m-> 2007\u001b[0m \u001b[38;5;28;01mreturn\u001b[39;00m output \u001b[38;5;28;01mif\u001b[39;00m \u001b[38;5;28mself\u001b[39m\u001b[38;5;241m.\u001b[39mreturn_generator \u001b[38;5;28;01melse\u001b[39;00m \u001b[38;5;28;43mlist\u001b[39;49m\u001b[43m(\u001b[49m\u001b[43moutput\u001b[49m\u001b[43m)\u001b[49m\n",
      "File \u001b[1;32m~\\AppData\\Roaming\\Python\\Python312\\site-packages\\joblib\\parallel.py:1650\u001b[0m, in \u001b[0;36mParallel._get_outputs\u001b[1;34m(self, iterator, pre_dispatch)\u001b[0m\n\u001b[0;32m   1647\u001b[0m     \u001b[38;5;28;01myield\u001b[39;00m\n\u001b[0;32m   1649\u001b[0m     \u001b[38;5;28;01mwith\u001b[39;00m \u001b[38;5;28mself\u001b[39m\u001b[38;5;241m.\u001b[39m_backend\u001b[38;5;241m.\u001b[39mretrieval_context():\n\u001b[1;32m-> 1650\u001b[0m         \u001b[38;5;28;01myield from\u001b[39;00m \u001b[38;5;28mself\u001b[39m\u001b[38;5;241m.\u001b[39m_retrieve()\n\u001b[0;32m   1652\u001b[0m \u001b[38;5;28;01mexcept\u001b[39;00m \u001b[38;5;167;01mGeneratorExit\u001b[39;00m:\n\u001b[0;32m   1653\u001b[0m     \u001b[38;5;66;03m# The generator has been garbage collected before being fully\u001b[39;00m\n\u001b[0;32m   1654\u001b[0m     \u001b[38;5;66;03m# consumed. This aborts the remaining tasks if possible and warn\u001b[39;00m\n\u001b[0;32m   1655\u001b[0m     \u001b[38;5;66;03m# the user if necessary.\u001b[39;00m\n\u001b[0;32m   1656\u001b[0m     \u001b[38;5;28mself\u001b[39m\u001b[38;5;241m.\u001b[39m_exception \u001b[38;5;241m=\u001b[39m \u001b[38;5;28;01mTrue\u001b[39;00m\n",
      "File \u001b[1;32m~\\AppData\\Roaming\\Python\\Python312\\site-packages\\joblib\\parallel.py:1762\u001b[0m, in \u001b[0;36mParallel._retrieve\u001b[1;34m(self)\u001b[0m\n\u001b[0;32m   1757\u001b[0m \u001b[38;5;66;03m# If the next job is not ready for retrieval yet, we just wait for\u001b[39;00m\n\u001b[0;32m   1758\u001b[0m \u001b[38;5;66;03m# async callbacks to progress.\u001b[39;00m\n\u001b[0;32m   1759\u001b[0m \u001b[38;5;28;01mif\u001b[39;00m ((\u001b[38;5;28mlen\u001b[39m(\u001b[38;5;28mself\u001b[39m\u001b[38;5;241m.\u001b[39m_jobs) \u001b[38;5;241m==\u001b[39m \u001b[38;5;241m0\u001b[39m) \u001b[38;5;129;01mor\u001b[39;00m\n\u001b[0;32m   1760\u001b[0m     (\u001b[38;5;28mself\u001b[39m\u001b[38;5;241m.\u001b[39m_jobs[\u001b[38;5;241m0\u001b[39m]\u001b[38;5;241m.\u001b[39mget_status(\n\u001b[0;32m   1761\u001b[0m         timeout\u001b[38;5;241m=\u001b[39m\u001b[38;5;28mself\u001b[39m\u001b[38;5;241m.\u001b[39mtimeout) \u001b[38;5;241m==\u001b[39m TASK_PENDING)):\n\u001b[1;32m-> 1762\u001b[0m     \u001b[43mtime\u001b[49m\u001b[38;5;241;43m.\u001b[39;49m\u001b[43msleep\u001b[49m\u001b[43m(\u001b[49m\u001b[38;5;241;43m0.01\u001b[39;49m\u001b[43m)\u001b[49m\n\u001b[0;32m   1763\u001b[0m     \u001b[38;5;28;01mcontinue\u001b[39;00m\n\u001b[0;32m   1765\u001b[0m \u001b[38;5;66;03m# We need to be careful: the job list can be filling up as\u001b[39;00m\n\u001b[0;32m   1766\u001b[0m \u001b[38;5;66;03m# we empty it and Python list are not thread-safe by\u001b[39;00m\n\u001b[0;32m   1767\u001b[0m \u001b[38;5;66;03m# default hence the use of the lock\u001b[39;00m\n",
      "\u001b[1;31mKeyboardInterrupt\u001b[0m: "
     ]
    }
   ],
   "source": [
    "candidate_kernels = []\n",
    "\n",
    "# Load mismatch kernels for k = 5...20 and m = 1,2.\n",
    "for k in range(5, 21):\n",
    "    for m in [1, 2]:\n",
    "        try:\n",
    "            K = u.load_kernel('mismatch', 2, k, m)\n",
    "            info = {'type': 'mismatch', 'k': k, 'm': m}\n",
    "            candidate_kernels.append((K, info))\n",
    "        except Exception as e:\n",
    "            print(f\"Could not load mismatch kernel: k={k}, m={m}. Error: {e}\")\n",
    "\n",
    "# Load spectrum kernels for k = 5...20.\n",
    "for k in range(5, 21):\n",
    "    try:\n",
    "        K = u.load_kernel('spectrum', 2, k)\n",
    "        info = {'type': 'spectrum', 'k': k}\n",
    "        candidate_kernels.append((K, info))\n",
    "    except Exception as e:\n",
    "        print(f\"Could not load spectrum kernel: k={k}. Error: {e}\")\n",
    "\n",
    "# Load weighted degree kernels for d = 3...12.\n",
    "for d in range(3, 13):\n",
    "    try:\n",
    "        K = u.load_kernel('weighted_degree', 2, d=d)\n",
    "        info = {'type': 'weighted_degree', 'd': d}\n",
    "        candidate_kernels.append((K, info))\n",
    "    except Exception as e:\n",
    "        print(f\"Could not load weighted degree kernel: d={d}. Error: {e}\")\n",
    "\n",
    "start_kernel_specs = [\n",
    "    {'type': 'mismatch', 'k': 10, 'm': 1},\n",
    "    {'type': 'mismatch', 'k': 17, 'm': 1},\n",
    "    {'type': 'mismatch', 'k': 5, 'm': 2},\n",
    "    {'type': 'mismatch', 'k': 11, 'm': 1},\n",
    "    {'type': 'spectrum', 'k': 13},   \n",
    "    {'type': 'mismatch', 'k': 9, 'm': 1},  # Meilleur combinaison ici \n",
    "    {'type': 'spectrum', 'k': 16},\n",
    "    {'type': 'spectrum', 'k': 12},\n",
    "    {'type': 'spectrum', 'k': 11},\n",
    "    {'type': 'mismatch', 'k': 10, 'm': 2},\n",
    "]\n",
    "\n",
    "# Select the fixed starting kernels.\n",
    "start_kernels = []\n",
    "for spec in start_kernel_specs:\n",
    "    found = False\n",
    "    for idx, candidate in enumerate(candidate_kernels):\n",
    "        info = candidate[1]\n",
    "        if spec['type'] == info['type']:\n",
    "            if spec['type'] == 'mismatch':\n",
    "                if info.get('k') == spec.get('k') and info.get('m') == spec.get('m'):\n",
    "                    start_kernels.append(candidate)\n",
    "                    candidate_kernels.pop(idx)\n",
    "                    found = True\n",
    "                    break\n",
    "            elif spec['type'] == 'spectrum':\n",
    "                if info.get('k') == spec.get('k'):\n",
    "                    start_kernels.append(candidate)\n",
    "                    candidate_kernels.pop(idx)\n",
    "                    found = True\n",
    "                    break\n",
    "            elif spec['type'] == 'weighted_degree':\n",
    "                if info.get('d') == spec.get('d'):\n",
    "                    start_kernels.append(candidate)\n",
    "                    candidate_kernels.pop(idx)\n",
    "                    found = True\n",
    "                    break\n",
    "    if not found:\n",
    "        if spec['type'] == 'mismatch':\n",
    "            raise ValueError(f\"Mismatch kernel with k={spec['k']}, m={spec['m']} was not found!\")\n",
    "        elif spec['type'] == 'spectrum':\n",
    "            raise ValueError(f\"Spectrum kernel with k={spec['k']} was not found!\")\n",
    "        elif spec['type'] == 'weighted_degree':\n",
    "            raise ValueError(f\"Weighted degree kernel with d={spec['d']} was not found!\")\n",
    "        else:\n",
    "            raise ValueError(\"Kernel specification not recognized!\")\n",
    "\n",
    "# Initialize the selected kernels with the starting kernels.\n",
    "selected_kernels = start_kernels.copy()\n",
    "\n",
    "# Evaluate baseline CV score using the combined starting kernels.\n",
    "combined_start_kernel = np.sum([sk[0] for sk in start_kernels], axis=0) / len(start_kernels)\n",
    "base_score = cross_val_score_with_precomputed_kernel(\n",
    "    estimator=Kernel_SVM(kernel='precomputed', C=1),\n",
    "    K=combined_start_kernel,\n",
    "    y=y_train2,\n",
    "    n_jobs=12,\n",
    "    n_iter=2\n",
    ")\n",
    "print(f\"\\nStarting with fixed kernels {[sk[1] for sk in start_kernels]} CV score: {base_score:.4f}\")\n",
    "\n",
    "# Greedy forward selection to build an ensemble of 10 kernels.\n",
    "while len(selected_kernels) < 14:\n",
    "    best_candidate = None\n",
    "    best_candidate_score = -np.inf\n",
    "\n",
    "    for candidate in tqdm(candidate_kernels, desc=\"Evaluating candidate kernels\", leave=False):\n",
    "        # Combine current selected kernels with the candidate by summing and averaging.\n",
    "        current_kernels = [sk[0] for sk in selected_kernels] + [candidate[0]]\n",
    "        combined_kernel = np.sum(current_kernels, axis=0) / len(current_kernels)\n",
    "\n",
    "        score = cross_val_score_with_precomputed_kernel(\n",
    "            estimator=Kernel_SVM(kernel='precomputed', C=1),\n",
    "            K=combined_kernel,\n",
    "            y=y_train2,\n",
    "            n_jobs=12,\n",
    "            n_iter=2\n",
    "        )\n",
    "        if score > best_candidate_score:\n",
    "            best_candidate_score = score\n",
    "            best_candidate = candidate\n",
    "\n",
    "    # Add the best candidate to the ensemble.\n",
    "    selected_kernels.append(best_candidate)\n",
    "    # Remove the best candidate from the candidate list.\n",
    "    candidate_kernels = [c for c in candidate_kernels if c[1] != best_candidate[1]]\n",
    "    print(f\"Selected kernel {best_candidate[1]}; combination size: {len(selected_kernels)}; CV score: {best_candidate_score:.4f}\\n\")\n",
    "\n",
    "print(\"Final selected combination of 10 kernels:\")\n",
    "for idx, sk in enumerate(selected_kernels):\n",
    "    print(f\"Kernel {idx+1}: {sk[1]}\")\n",
    "\n",
    "del candidate_kernels\n",
    "gc.collect()\n",
    "print(\"Candidate kernels have been unloaded from memory.\")\n"
   ]
  },
  {
   "cell_type": "markdown",
   "metadata": {},
   "source": [
    "Ensemble"
   ]
  },
  {
   "cell_type": "code",
   "execution_count": null,
   "metadata": {},
   "outputs": [
    {
     "name": "stderr",
     "output_type": "stream",
     "text": [
      "Precomputing CV predictions: 100%|██████████| 48/48 [20:02<00:00, 25.06s/it]\n"
     ]
    },
    {
     "name": "stdout",
     "output_type": "stream",
     "text": [
      "Starting kernel accuracy: 0.7740\n",
      "Ensemble accuracy with 2 kernels: 0.7755\n",
      "Ensemble accuracy with 3 kernels: 0.7790\n",
      "Ensemble accuracy with 4 kernels: 0.7765\n",
      "Ensemble accuracy with 5 kernels: 0.7805\n",
      "Ensemble accuracy with 6 kernels: 0.7810\n",
      "Ensemble accuracy with 7 kernels: 0.7860\n",
      "Ensemble accuracy with 8 kernels: 0.7850\n",
      "Ensemble accuracy with 9 kernels: 0.7885\n",
      "Ensemble accuracy with 10 kernels: 0.7855\n",
      "Ensemble accuracy with 11 kernels: 0.7880\n",
      "Ensemble accuracy with 12 kernels: 0.7855\n",
      "\n",
      "Final ensemble accuracy: 0.7855\n",
      "Final selected ensemble kernels:\n",
      "{'type': 'mismatch', 'k': 10, 'm': 1}\n",
      "{'type': 'mismatch', 'k': 11, 'm': 2}\n",
      "{'type': 'spectrum', 'k': 13}\n",
      "{'type': 'mismatch', 'k': 10, 'm': 2}\n",
      "{'type': 'spectrum', 'k': 9}\n",
      "{'type': 'spectrum', 'k': 5}\n",
      "{'type': 'spectrum', 'k': 8}\n",
      "{'type': 'mismatch', 'k': 6, 'm': 2}\n",
      "{'type': 'mismatch', 'k': 18, 'm': 1}\n",
      "{'type': 'mismatch', 'k': 9, 'm': 1}\n",
      "{'type': 'mismatch', 'k': 17, 'm': 1}\n",
      "{'type': 'mismatch', 'k': 5, 'm': 2}\n",
      "Candidate kernels have been unloaded from memory.\n"
     ]
    }
   ],
   "source": [
    "candidate_kernels = []\n",
    "\n",
    "# Load mismatch kernels for k = 5...20 and m = 1,2.\n",
    "for k in range(5, 21):\n",
    "    for m in [1, 2]:\n",
    "        try:\n",
    "            K = u.load_kernel('mismatch', 2, k, m)\n",
    "            info = {'type': 'mismatch', 'k': k, 'm': m}\n",
    "            candidate_kernels.append((K, info))\n",
    "        except Exception as e:\n",
    "            print(f\"Could not load mismatch kernel: k={k}, m={m}. Error: {e}\")\n",
    "\n",
    "# Load spectrum kernels for k = 5...20.\n",
    "for k in range(5, 21):\n",
    "    try:\n",
    "        K = u.load_kernel('spectrum', 2, k)\n",
    "        info = {'type': 'spectrum', 'k': k}\n",
    "        candidate_kernels.append((K, info))\n",
    "    except Exception as e:\n",
    "        print(f\"Could not load spectrum kernel: k={k}. Error: {e}\")\n",
    "\n",
    "\n",
    "candidate_kernels_with_preds = u.precompute_cv_predictions(candidate_kernels, y_train2)\n",
    "\n",
    "start_kernel = None\n",
    "start_idx = None\n",
    "for idx, candidate in enumerate(candidate_kernels_with_preds):\n",
    "    K, info, y_pred = candidate\n",
    "    if info['type'] == 'mismatch' and info['k'] == 10 and info.get('m') == 1:\n",
    "        start_kernel = candidate\n",
    "        start_idx = idx\n",
    "        break\n",
    "if start_kernel is None:\n",
    "    raise ValueError(\"Mismatch kernel with k=10, m=1 was not found!\")\n",
    "\n",
    "# Initialize the ensemble with the starting kernel.\n",
    "selected_kernels = [start_kernel]\n",
    "del candidate_kernels_with_preds[start_idx]\n",
    "\n",
    "# Evaluate and print starting kernel accuracy\n",
    "base_score = accuracy_score(y_train2, start_kernel[2])\n",
    "print(f\"Starting kernel accuracy: {base_score:.4f}\")\n",
    "\n",
    "# Greedy forward selection to build an ensemble of up to 8 kernels,\n",
    "while len(selected_kernels) < 12 and candidate_kernels_with_preds:\n",
    "    if selected_kernels:\n",
    "        current_preds_list = [sk[2] for sk in selected_kernels]\n",
    "        current_stacked_preds = np.vstack(current_preds_list)\n",
    "        current_ensemble_preds, _ = mode(current_stacked_preds, axis=0)\n",
    "        current_ensemble_preds = current_ensemble_preds.ravel()\n",
    "        current_score = accuracy_score(y_train2, current_ensemble_preds)\n",
    "    else:\n",
    "        current_score = 0\n",
    "\n",
    "    best_candidate = None\n",
    "    best_candidate_score = -1  \n",
    "\n",
    "    # Evaluate each candidate kernel.\n",
    "    for candidate in candidate_kernels_with_preds:\n",
    "        preds_list = ([sk[2] for sk in selected_kernels] + [candidate[2]]) if selected_kernels else [candidate[2]]\n",
    "        stacked_preds = np.vstack(preds_list)\n",
    "        ensemble_preds, _ = mode(stacked_preds, axis=0)\n",
    "        ensemble_preds = ensemble_preds.ravel()\n",
    "        score = accuracy_score(y_train2, ensemble_preds)\n",
    "        \n",
    "        if score >= best_candidate_score:\n",
    "            best_candidate_score = score\n",
    "            best_candidate = candidate\n",
    "\n",
    "\n",
    "    # Add the best candidate to the selected kernels.\n",
    "    selected_kernels.append(best_candidate)\n",
    "    # Remove the selected candidate from further consideration.\n",
    "    candidate_kernels_with_preds = [c for c in candidate_kernels_with_preds if c[1] != best_candidate[1]]\n",
    "    \n",
    "    print(f\"Ensemble accuracy with {len(selected_kernels)} kernels: {best_candidate_score:.4f}\")\n",
    "\n",
    "# Evaluate final ensemble accuracy.\n",
    "final_preds_list = [sk[2] for sk in selected_kernels]\n",
    "final_stacked_preds = np.vstack(final_preds_list)\n",
    "final_ensemble_preds, _ = mode(final_stacked_preds, axis=0)\n",
    "final_ensemble_preds = final_ensemble_preds.ravel()\n",
    "final_score = accuracy_score(y_train2, final_ensemble_preds)\n",
    "\n",
    "print(f\"\\nFinal ensemble accuracy: {final_score:.4f}\")\n",
    "print(\"Final selected ensemble kernels:\")\n",
    "for sk in selected_kernels:\n",
    "    print(sk[1])\n",
    "\n",
    "del candidate_kernels\n",
    "gc.collect()\n",
    "print(\"Candidate kernels have been unloaded from memory.\")\n"
   ]
  },
  {
   "cell_type": "markdown",
   "metadata": {},
   "source": [
    "#### Dataset 3 :\n"
   ]
  },
  {
   "cell_type": "markdown",
   "metadata": {},
   "source": [
    "Bagging : "
   ]
  },
  {
   "cell_type": "code",
   "execution_count": null,
   "metadata": {},
   "outputs": [
    {
     "name": "stdout",
     "output_type": "stream",
     "text": [
      "Base accuracy: 0.68225\n",
      "\n",
      "\n",
      "n_estimators = 5: Mean Accuracy = 0.6485\n",
      "n_estimators = 6: Mean Accuracy = 0.6175\n",
      "n_estimators = 7: Mean Accuracy = 0.6337\n",
      "n_estimators = 8: Mean Accuracy = 0.6085\n",
      "n_estimators = 9: Mean Accuracy = 0.6030\n",
      "n_estimators = 10: Mean Accuracy = 0.6010\n",
      "\n",
      " Best n_estimators: 5 with mean accuracy: 0.6485\n"
     ]
    }
   ],
   "source": [
    "C = 1  \n",
    "K = np.load(\"precomputed_kernels/mismatch_kernel_aug3_k17_m1_normalizeTrue.npy\")  \n",
    "\n",
    "candidate_n_estimators = np.arange(5, 11)\n",
    "results = {}\n",
    "\n",
    "\n",
    "model = Kernel_SVM(kernel='precomputed', C=C)\n",
    "base_accuracy = cross_val_score_with_precomputed_kernel(\n",
    "    model, K, y_train3, cv=5, n_jobs=13, n_iter=2)\n",
    "\n",
    "print(\"Base accuracy:\", base_accuracy)\n",
    "print(\"\\n\")\n",
    "for n_est in candidate_n_estimators:\n",
    "    \n",
    "    hierarchical_clf = Hierarchical_Bagging_Kernel(\n",
    "        base_estimator=Kernel_SVM(kernel='precomputed', C=C),\n",
    "        n_estimators=n_est,\n",
    "        bootstrap=True,\n",
    "        augment_data=True,\n",
    "        random_state=None,  \n",
    "        n_jobs=1\n",
    "    )\n",
    "\n",
    "    accuracy = cross_val_score_with_precomputed_kernel(\n",
    "        hierarchical_clf, K, y_train3, cv=5, n_jobs=13, n_iter=2\n",
    "    )\n",
    "    \n",
    "    results[n_est] = accuracy\n",
    "    print(f\"n_estimators = {n_est}: Mean Accuracy = {accuracy:.4f}\")\n",
    "\n",
    "# Determine best candidate based on average accuracy.\n",
    "best_n = max(results, key=results.get)\n",
    "print(\"\\n Best n_estimators:\", best_n, \"with mean accuracy:\", results[best_n])\n",
    "\n"
   ]
  },
  {
   "cell_type": "markdown",
   "metadata": {},
   "source": [
    "Sum of Kernels"
   ]
  },
  {
   "cell_type": "code",
   "execution_count": null,
   "metadata": {},
   "outputs": [
    {
     "name": "stdout",
     "output_type": "stream",
     "text": [
      "\n",
      "Starting with fixed kernels [{'type': 'mismatch', 'k': 17, 'm': 1}, {'type': 'spectrum', 'k': 12}, {'type': 'spectrum', 'k': 13}, {'type': 'mismatch', 'k': 14, 'm': 2}] CV score: 0.6875\n"
     ]
    },
    {
     "name": "stderr",
     "output_type": "stream",
     "text": [
      "                                                                             \r"
     ]
    },
    {
     "name": "stdout",
     "output_type": "stream",
     "text": [
      "Selected kernel {'type': 'mismatch', 'k': 19, 'm': 1}; combination size: 5; CV score: 0.6875\n",
      "\n"
     ]
    },
    {
     "name": "stderr",
     "output_type": "stream",
     "text": [
      "                                                                             \r"
     ]
    },
    {
     "name": "stdout",
     "output_type": "stream",
     "text": [
      "Selected kernel {'type': 'mismatch', 'k': 15, 'm': 2}; combination size: 6; CV score: 0.6885\n",
      "\n"
     ]
    },
    {
     "name": "stderr",
     "output_type": "stream",
     "text": [
      "                                                                             \r"
     ]
    },
    {
     "name": "stdout",
     "output_type": "stream",
     "text": [
      "Selected kernel {'type': 'mismatch', 'k': 16, 'm': 1}; combination size: 7; CV score: 0.6883\n",
      "\n"
     ]
    },
    {
     "name": "stderr",
     "output_type": "stream",
     "text": [
      "                                                                              \r"
     ]
    },
    {
     "name": "stdout",
     "output_type": "stream",
     "text": [
      "Selected kernel {'type': 'weighted_degree', 'd': 12}; combination size: 8; CV score: 0.6885\n",
      "\n"
     ]
    },
    {
     "name": "stderr",
     "output_type": "stream",
     "text": [
      "                                                                            \r"
     ]
    },
    {
     "ename": "KeyboardInterrupt",
     "evalue": "",
     "output_type": "error",
     "traceback": [
      "\u001b[1;31m---------------------------------------------------------------------------\u001b[0m",
      "\u001b[1;31mKeyboardInterrupt\u001b[0m                         Traceback (most recent call last)",
      "Cell \u001b[1;32mIn[4], line 101\u001b[0m\n\u001b[0;32m     98\u001b[0m current_kernels \u001b[38;5;241m=\u001b[39m [sk[\u001b[38;5;241m0\u001b[39m] \u001b[38;5;28;01mfor\u001b[39;00m sk \u001b[38;5;129;01min\u001b[39;00m selected_kernels] \u001b[38;5;241m+\u001b[39m [candidate[\u001b[38;5;241m0\u001b[39m]]\n\u001b[0;32m     99\u001b[0m combined_kernel \u001b[38;5;241m=\u001b[39m np\u001b[38;5;241m.\u001b[39msum(current_kernels, axis\u001b[38;5;241m=\u001b[39m\u001b[38;5;241m0\u001b[39m) \u001b[38;5;241m/\u001b[39m \u001b[38;5;28mlen\u001b[39m(current_kernels)\n\u001b[1;32m--> 101\u001b[0m score \u001b[38;5;241m=\u001b[39m \u001b[43mcross_val_score_with_precomputed_kernel\u001b[49m\u001b[43m(\u001b[49m\n\u001b[0;32m    102\u001b[0m \u001b[43m    \u001b[49m\u001b[43mestimator\u001b[49m\u001b[38;5;241;43m=\u001b[39;49m\u001b[43mKernel_SVM\u001b[49m\u001b[43m(\u001b[49m\u001b[43mkernel\u001b[49m\u001b[38;5;241;43m=\u001b[39;49m\u001b[38;5;124;43m'\u001b[39;49m\u001b[38;5;124;43mprecomputed\u001b[39;49m\u001b[38;5;124;43m'\u001b[39;49m\u001b[43m,\u001b[49m\u001b[43m \u001b[49m\u001b[43mC\u001b[49m\u001b[38;5;241;43m=\u001b[39;49m\u001b[38;5;241;43m1\u001b[39;49m\u001b[43m)\u001b[49m\u001b[43m,\u001b[49m\n\u001b[0;32m    103\u001b[0m \u001b[43m    \u001b[49m\u001b[43mK\u001b[49m\u001b[38;5;241;43m=\u001b[39;49m\u001b[43mcombined_kernel\u001b[49m\u001b[43m,\u001b[49m\n\u001b[0;32m    104\u001b[0m \u001b[43m    \u001b[49m\u001b[43my\u001b[49m\u001b[38;5;241;43m=\u001b[39;49m\u001b[43my_train3\u001b[49m\u001b[43m,\u001b[49m\n\u001b[0;32m    105\u001b[0m \u001b[43m    \u001b[49m\u001b[43mn_jobs\u001b[49m\u001b[38;5;241;43m=\u001b[39;49m\u001b[38;5;241;43m12\u001b[39;49m\u001b[43m,\u001b[49m\n\u001b[0;32m    106\u001b[0m \u001b[43m    \u001b[49m\u001b[43mn_iter\u001b[49m\u001b[38;5;241;43m=\u001b[39;49m\u001b[38;5;241;43m2\u001b[39;49m\n\u001b[0;32m    107\u001b[0m \u001b[43m\u001b[49m\u001b[43m)\u001b[49m\n\u001b[0;32m    108\u001b[0m \u001b[38;5;28;01mif\u001b[39;00m score \u001b[38;5;241m>\u001b[39m best_candidate_score:\n\u001b[0;32m    109\u001b[0m     best_candidate_score \u001b[38;5;241m=\u001b[39m score\n",
      "File \u001b[1;32mc:\\Users\\1411\\Desktop\\Kernel_Method_Challenge\\cross_validation.py:149\u001b[0m, in \u001b[0;36mcross_val_score_with_precomputed_kernel\u001b[1;34m(estimator, K, y, cv, random_state, n_jobs, verbose, n_iter)\u001b[0m\n\u001b[0;32m    146\u001b[0m         \u001b[38;5;28;01mreturn\u001b[39;00m np\u001b[38;5;241m.\u001b[39mnan\n\u001b[0;32m    148\u001b[0m \u001b[38;5;66;03m# Run all tasks in parallel.\u001b[39;00m\n\u001b[1;32m--> 149\u001b[0m all_scores \u001b[38;5;241m=\u001b[39m \u001b[43mParallel\u001b[49m\u001b[43m(\u001b[49m\u001b[43mn_jobs\u001b[49m\u001b[38;5;241;43m=\u001b[39;49m\u001b[43mn_jobs\u001b[49m\u001b[43m,\u001b[49m\u001b[43m \u001b[49m\u001b[43mverbose\u001b[49m\u001b[38;5;241;43m=\u001b[39;49m\u001b[43mverbose\u001b[49m\u001b[43m,\u001b[49m\u001b[43m \u001b[49m\u001b[43mbackend\u001b[49m\u001b[38;5;241;43m=\u001b[39;49m\u001b[38;5;124;43m\"\u001b[39;49m\u001b[38;5;124;43mloky\u001b[39;49m\u001b[38;5;124;43m\"\u001b[39;49m\u001b[43m)\u001b[49m\u001b[43m(\u001b[49m\n\u001b[0;32m    150\u001b[0m \u001b[43m    \u001b[49m\u001b[43mdelayed\u001b[49m\u001b[43m(\u001b[49m\u001b[43mfit_and_score\u001b[49m\u001b[43m)\u001b[49m\u001b[43m(\u001b[49m\u001b[43mtrain_idx\u001b[49m\u001b[43m,\u001b[49m\u001b[43m \u001b[49m\u001b[43mtest_idx\u001b[49m\u001b[43m)\u001b[49m\u001b[43m \u001b[49m\u001b[38;5;28;43;01mfor\u001b[39;49;00m\u001b[43m \u001b[49m\u001b[43mtrain_idx\u001b[49m\u001b[43m,\u001b[49m\u001b[43m \u001b[49m\u001b[43mtest_idx\u001b[49m\u001b[43m \u001b[49m\u001b[38;5;129;43;01min\u001b[39;49;00m\u001b[43m \u001b[49m\u001b[43mtasks\u001b[49m\n\u001b[0;32m    151\u001b[0m \u001b[43m\u001b[49m\u001b[43m)\u001b[49m\n\u001b[0;32m    153\u001b[0m \u001b[38;5;28;01mreturn\u001b[39;00m np\u001b[38;5;241m.\u001b[39mmean(all_scores)\n",
      "File \u001b[1;32m~\\AppData\\Roaming\\Python\\Python312\\site-packages\\joblib\\parallel.py:2007\u001b[0m, in \u001b[0;36mParallel.__call__\u001b[1;34m(self, iterable)\u001b[0m\n\u001b[0;32m   2001\u001b[0m \u001b[38;5;66;03m# The first item from the output is blank, but it makes the interpreter\u001b[39;00m\n\u001b[0;32m   2002\u001b[0m \u001b[38;5;66;03m# progress until it enters the Try/Except block of the generator and\u001b[39;00m\n\u001b[0;32m   2003\u001b[0m \u001b[38;5;66;03m# reaches the first `yield` statement. This starts the asynchronous\u001b[39;00m\n\u001b[0;32m   2004\u001b[0m \u001b[38;5;66;03m# dispatch of the tasks to the workers.\u001b[39;00m\n\u001b[0;32m   2005\u001b[0m \u001b[38;5;28mnext\u001b[39m(output)\n\u001b[1;32m-> 2007\u001b[0m \u001b[38;5;28;01mreturn\u001b[39;00m output \u001b[38;5;28;01mif\u001b[39;00m \u001b[38;5;28mself\u001b[39m\u001b[38;5;241m.\u001b[39mreturn_generator \u001b[38;5;28;01melse\u001b[39;00m \u001b[38;5;28;43mlist\u001b[39;49m\u001b[43m(\u001b[49m\u001b[43moutput\u001b[49m\u001b[43m)\u001b[49m\n",
      "File \u001b[1;32m~\\AppData\\Roaming\\Python\\Python312\\site-packages\\joblib\\parallel.py:1650\u001b[0m, in \u001b[0;36mParallel._get_outputs\u001b[1;34m(self, iterator, pre_dispatch)\u001b[0m\n\u001b[0;32m   1647\u001b[0m     \u001b[38;5;28;01myield\u001b[39;00m\n\u001b[0;32m   1649\u001b[0m     \u001b[38;5;28;01mwith\u001b[39;00m \u001b[38;5;28mself\u001b[39m\u001b[38;5;241m.\u001b[39m_backend\u001b[38;5;241m.\u001b[39mretrieval_context():\n\u001b[1;32m-> 1650\u001b[0m         \u001b[38;5;28;01myield from\u001b[39;00m \u001b[38;5;28mself\u001b[39m\u001b[38;5;241m.\u001b[39m_retrieve()\n\u001b[0;32m   1652\u001b[0m \u001b[38;5;28;01mexcept\u001b[39;00m \u001b[38;5;167;01mGeneratorExit\u001b[39;00m:\n\u001b[0;32m   1653\u001b[0m     \u001b[38;5;66;03m# The generator has been garbage collected before being fully\u001b[39;00m\n\u001b[0;32m   1654\u001b[0m     \u001b[38;5;66;03m# consumed. This aborts the remaining tasks if possible and warn\u001b[39;00m\n\u001b[0;32m   1655\u001b[0m     \u001b[38;5;66;03m# the user if necessary.\u001b[39;00m\n\u001b[0;32m   1656\u001b[0m     \u001b[38;5;28mself\u001b[39m\u001b[38;5;241m.\u001b[39m_exception \u001b[38;5;241m=\u001b[39m \u001b[38;5;28;01mTrue\u001b[39;00m\n",
      "File \u001b[1;32m~\\AppData\\Roaming\\Python\\Python312\\site-packages\\joblib\\parallel.py:1762\u001b[0m, in \u001b[0;36mParallel._retrieve\u001b[1;34m(self)\u001b[0m\n\u001b[0;32m   1757\u001b[0m \u001b[38;5;66;03m# If the next job is not ready for retrieval yet, we just wait for\u001b[39;00m\n\u001b[0;32m   1758\u001b[0m \u001b[38;5;66;03m# async callbacks to progress.\u001b[39;00m\n\u001b[0;32m   1759\u001b[0m \u001b[38;5;28;01mif\u001b[39;00m ((\u001b[38;5;28mlen\u001b[39m(\u001b[38;5;28mself\u001b[39m\u001b[38;5;241m.\u001b[39m_jobs) \u001b[38;5;241m==\u001b[39m \u001b[38;5;241m0\u001b[39m) \u001b[38;5;129;01mor\u001b[39;00m\n\u001b[0;32m   1760\u001b[0m     (\u001b[38;5;28mself\u001b[39m\u001b[38;5;241m.\u001b[39m_jobs[\u001b[38;5;241m0\u001b[39m]\u001b[38;5;241m.\u001b[39mget_status(\n\u001b[0;32m   1761\u001b[0m         timeout\u001b[38;5;241m=\u001b[39m\u001b[38;5;28mself\u001b[39m\u001b[38;5;241m.\u001b[39mtimeout) \u001b[38;5;241m==\u001b[39m TASK_PENDING)):\n\u001b[1;32m-> 1762\u001b[0m     \u001b[43mtime\u001b[49m\u001b[38;5;241;43m.\u001b[39;49m\u001b[43msleep\u001b[49m\u001b[43m(\u001b[49m\u001b[38;5;241;43m0.01\u001b[39;49m\u001b[43m)\u001b[49m\n\u001b[0;32m   1763\u001b[0m     \u001b[38;5;28;01mcontinue\u001b[39;00m\n\u001b[0;32m   1765\u001b[0m \u001b[38;5;66;03m# We need to be careful: the job list can be filling up as\u001b[39;00m\n\u001b[0;32m   1766\u001b[0m \u001b[38;5;66;03m# we empty it and Python list are not thread-safe by\u001b[39;00m\n\u001b[0;32m   1767\u001b[0m \u001b[38;5;66;03m# default hence the use of the lock\u001b[39;00m\n",
      "\u001b[1;31mKeyboardInterrupt\u001b[0m: "
     ]
    }
   ],
   "source": [
    "candidate_kernels = []\n",
    "\n",
    "# Load mismatch kernels for k = 5...20 and m = 1,2.\n",
    "for k in range(5, 21):\n",
    "    for m in [1, 2]:\n",
    "        try:\n",
    "            K = u.load_kernel('mismatch', 3, k, m)\n",
    "            info = {'type': 'mismatch', 'k': k, 'm': m}\n",
    "            candidate_kernels.append((K, info))\n",
    "        except Exception as e:\n",
    "            print(f\"Could not load mismatch kernel: k={k}, m={m}. Error: {e}\")\n",
    "\n",
    "# Load spectrum kernels for k = 5...20.\n",
    "for k in range(5, 21):\n",
    "    try:\n",
    "        K = u.load_kernel('spectrum', 3, k)\n",
    "        info = {'type': 'spectrum', 'k': k}\n",
    "        candidate_kernels.append((K, info))\n",
    "    except Exception as e:\n",
    "        print(f\"Could not load spectrum kernel: k={k}. Error: {e}\")\n",
    "\n",
    "# Load weighted degree kernels for d = 3...12.\n",
    "for d in range(3, 13):\n",
    "    try:\n",
    "        K = u.load_kernel('weighted_degree', 3, d=d)\n",
    "        info = {'type': 'weighted_degree', 'd': d}\n",
    "        candidate_kernels.append((K, info))\n",
    "    except Exception as e:\n",
    "        print(f\"Could not load weighted degree kernel: d={d}. Error: {e}\")\n",
    "\n",
    "start_kernel_specs = [\n",
    "    {'type': 'mismatch', 'k': 17, 'm': 1},\n",
    "    {'type': 'spectrum', 'k': 12},\n",
    "    {'type': 'spectrum', 'k': 13},\n",
    "    {'type': 'mismatch', 'k': 14, 'm': 2},\n",
    "]\n",
    "\n",
    "# Select the fixed starting kernels.\n",
    "start_kernels = []\n",
    "for spec in start_kernel_specs:\n",
    "    found = False\n",
    "    for idx, candidate in enumerate(candidate_kernels):\n",
    "        info = candidate[1]\n",
    "        if spec['type'] == info['type']:\n",
    "            if spec['type'] == 'mismatch':\n",
    "                if info.get('k') == spec.get('k') and info.get('m') == spec.get('m'):\n",
    "                    start_kernels.append(candidate)\n",
    "                    candidate_kernels.pop(idx)\n",
    "                    found = True\n",
    "                    break\n",
    "            elif spec['type'] == 'spectrum':\n",
    "                if info.get('k') == spec.get('k'):\n",
    "                    start_kernels.append(candidate)\n",
    "                    candidate_kernels.pop(idx)\n",
    "                    found = True\n",
    "                    break\n",
    "            elif spec['type'] == 'weighted_degree':\n",
    "                if info.get('d') == spec.get('d'):\n",
    "                    start_kernels.append(candidate)\n",
    "                    candidate_kernels.pop(idx)\n",
    "                    found = True\n",
    "                    break\n",
    "    if not found:\n",
    "        if spec['type'] == 'mismatch':\n",
    "            raise ValueError(f\"Mismatch kernel with k={spec['k']}, m={spec['m']} was not found!\")\n",
    "        elif spec['type'] == 'spectrum':\n",
    "            raise ValueError(f\"Spectrum kernel with k={spec['k']} was not found!\")\n",
    "        elif spec['type'] == 'weighted_degree':\n",
    "            raise ValueError(f\"Weighted degree kernel with d={spec['d']} was not found!\")\n",
    "        else:\n",
    "            raise ValueError(\"Kernel specification not recognized!\")\n",
    "\n",
    "# Initialize the selected kernels with the starting kernels.\n",
    "selected_kernels = start_kernels.copy()\n",
    "\n",
    "# Evaluate baseline CV score using the combined starting kernels.\n",
    "combined_start_kernel = np.sum([sk[0] for sk in start_kernels], axis=0) / len(start_kernels)\n",
    "base_score = cross_val_score_with_precomputed_kernel(\n",
    "    estimator=Kernel_SVM(kernel='precomputed', C=1),\n",
    "    K=combined_start_kernel,\n",
    "    y=y_train3,\n",
    "    n_jobs=12,\n",
    "    n_iter=2\n",
    ")\n",
    "print(f\"\\nStarting with fixed kernels {[sk[1] for sk in start_kernels]} CV score: {base_score:.4f}\")\n",
    "\n",
    "# Greedy forward selection to build an ensemble of 10 kernels.\n",
    "while len(selected_kernels) < 14:\n",
    "    best_candidate = None\n",
    "    best_candidate_score = -np.inf\n",
    "    \n",
    "    for candidate in tqdm(candidate_kernels, desc=\"Evaluating candidate kernels\", leave=False):\n",
    "        # Combine current selected kernels with the candidate by summing and averaging.\n",
    "        current_kernels = [sk[0] for sk in selected_kernels] + [candidate[0]]\n",
    "        combined_kernel = np.sum(current_kernels, axis=0) / len(current_kernels)\n",
    "\n",
    "        score = cross_val_score_with_precomputed_kernel(\n",
    "            estimator=Kernel_SVM(kernel='precomputed', C=1),\n",
    "            K=combined_kernel,\n",
    "            y=y_train3,\n",
    "            n_jobs=12,\n",
    "            n_iter=2\n",
    "        )\n",
    "        if score > best_candidate_score:\n",
    "            best_candidate_score = score\n",
    "            best_candidate = candidate\n",
    "\n",
    "    # Add the best candidate to the ensemble.\n",
    "    selected_kernels.append(best_candidate)\n",
    "    # Remove the best candidate from the candidate list.\n",
    "    candidate_kernels = [c for c in candidate_kernels if c[1] != best_candidate[1]]\n",
    "    print(f\"Selected kernel {best_candidate[1]}; combination size: {len(selected_kernels)}; CV score: {best_candidate_score:.4f}\\n\")\n",
    "\n",
    "print(\"Final selected combination of 10 kernels:\")\n",
    "for idx, sk in enumerate(selected_kernels):\n",
    "    print(f\"Kernel {idx+1}: {sk[1]}\")\n",
    "\n",
    "del candidate_kernels\n",
    "gc.collect()\n",
    "print(\"Candidate kernels have been unloaded from memory.\")\n"
   ]
  },
  {
   "cell_type": "markdown",
   "metadata": {},
   "source": [
    "Ensemble"
   ]
  },
  {
   "cell_type": "code",
   "execution_count": null,
   "metadata": {},
   "outputs": [
    {
     "name": "stderr",
     "output_type": "stream",
     "text": [
      "Precomputing CV predictions: 100%|██████████| 48/48 [21:47<00:00, 27.24s/it]\n"
     ]
    },
    {
     "name": "stdout",
     "output_type": "stream",
     "text": [
      "Starting kernel accuracy: 0.6745\n",
      "Ensemble accuracy with 2 kernels: 0.6755\n",
      "Ensemble accuracy with 3 kernels: 0.6800\n",
      "Ensemble accuracy with 4 kernels: 0.6795\n",
      "Ensemble accuracy with 5 kernels: 0.6805\n",
      "Ensemble accuracy with 6 kernels: 0.6810\n",
      "Ensemble accuracy with 7 kernels: 0.6820\n",
      "Ensemble accuracy with 8 kernels: 0.6815\n",
      "Ensemble accuracy with 9 kernels: 0.6825\n",
      "Ensemble accuracy with 10 kernels: 0.6825\n",
      "Ensemble accuracy with 11 kernels: 0.6835\n",
      "Ensemble accuracy with 12 kernels: 0.6835\n",
      "\n",
      "Final ensemble accuracy: 0.6835\n",
      "Final selected ensemble kernels:\n",
      "{'type': 'mismatch', 'k': 17, 'm': 1}\n",
      "{'type': 'spectrum', 'k': 12}\n",
      "{'type': 'spectrum', 'k': 7}\n",
      "{'type': 'spectrum', 'k': 11}\n",
      "{'type': 'spectrum', 'k': 20}\n",
      "{'type': 'mismatch', 'k': 7, 'm': 2}\n",
      "{'type': 'spectrum', 'k': 19}\n",
      "{'type': 'mismatch', 'k': 12, 'm': 1}\n",
      "{'type': 'mismatch', 'k': 5, 'm': 2}\n",
      "{'type': 'spectrum', 'k': 10}\n",
      "{'type': 'spectrum', 'k': 15}\n",
      "{'type': 'mismatch', 'k': 7, 'm': 1}\n",
      "Candidate kernels have been unloaded from memory.\n"
     ]
    }
   ],
   "source": [
    "candidate_kernels = []\n",
    "\n",
    "# Load mismatch kernels for k = 5...20 and m = 1,2.\n",
    "for k in range(5, 21):\n",
    "    for m in [1, 2]:\n",
    "        try:\n",
    "            K = u.load_kernel('mismatch', 3, k, m)\n",
    "            info = {'type': 'mismatch', 'k': k, 'm': m}\n",
    "            candidate_kernels.append((K, info))\n",
    "        except Exception as e:\n",
    "            print(f\"Could not load mismatch kernel: k={k}, m={m}. Error: {e}\")\n",
    "\n",
    "# Load spectrum kernels for k = 5...20.\n",
    "for k in range(5, 21):\n",
    "    try:\n",
    "        K = u.load_kernel('spectrum', 3, k)\n",
    "        info = {'type': 'spectrum', 'k': k}\n",
    "        candidate_kernels.append((K, info))\n",
    "    except Exception as e:\n",
    "        print(f\"Could not load spectrum kernel: k={k}. Error: {e}\")\n",
    "\n",
    "\n",
    "candidate_kernels_with_preds = u.precompute_cv_predictions(candidate_kernels, y_train3)\n",
    "\n",
    "start_kernel = None\n",
    "start_idx = None\n",
    "for idx, candidate in enumerate(candidate_kernels_with_preds):\n",
    "    K, info, y_pred = candidate\n",
    "    if info['type'] == 'mismatch' and info['k'] == 17 and info.get('m') == 1:\n",
    "        start_kernel = candidate\n",
    "        start_idx = idx\n",
    "        break\n",
    "if start_kernel is None:\n",
    "    raise ValueError(\"Mismatch kernel with k=10, m=1 was not found!\")\n",
    "\n",
    "# Initialize the ensemble with the starting kernel.\n",
    "selected_kernels = [start_kernel]\n",
    "del candidate_kernels_with_preds[start_idx]\n",
    "\n",
    "# Evaluate and print starting kernel accuracy\n",
    "base_score = accuracy_score(y_train3, start_kernel[2])\n",
    "print(f\"Starting kernel accuracy: {base_score:.4f}\")\n",
    "\n",
    "# Greedy forward selection to build an ensemble of up to 8 kernels,\n",
    "while len(selected_kernels) < 12 and candidate_kernels_with_preds:\n",
    "    if selected_kernels:\n",
    "        current_preds_list = [sk[2] for sk in selected_kernels]\n",
    "        current_stacked_preds = np.vstack(current_preds_list)\n",
    "        current_ensemble_preds, _ = mode(current_stacked_preds, axis=0)\n",
    "        current_ensemble_preds = current_ensemble_preds.ravel()\n",
    "        current_score = accuracy_score(y_train3, current_ensemble_preds)\n",
    "    else:\n",
    "        current_score = 0\n",
    "\n",
    "    best_candidate = None\n",
    "    best_candidate_score = -1  \n",
    "\n",
    "    # Evaluate each candidate kernel.\n",
    "    for candidate in candidate_kernels_with_preds:\n",
    "        preds_list = ([sk[2] for sk in selected_kernels] + [candidate[2]]) if selected_kernels else [candidate[2]]\n",
    "        stacked_preds = np.vstack(preds_list)\n",
    "        ensemble_preds, _ = mode(stacked_preds, axis=0)\n",
    "        ensemble_preds = ensemble_preds.ravel()\n",
    "        score = accuracy_score(y_train3, ensemble_preds)\n",
    "        \n",
    "        if score >= best_candidate_score:\n",
    "            best_candidate_score = score\n",
    "            best_candidate = candidate\n",
    "\n",
    "\n",
    "    # Add the best candidate to the selected kernels.\n",
    "    selected_kernels.append(best_candidate)\n",
    "    # Remove the selected candidate from further consideration.\n",
    "    candidate_kernels_with_preds = [c for c in candidate_kernels_with_preds if c[1] != best_candidate[1]]\n",
    "    \n",
    "    print(f\"Ensemble accuracy with {len(selected_kernels)} kernels: {best_candidate_score:.4f}\")\n",
    "\n",
    "# Evaluate final ensemble accuracy.\n",
    "final_preds_list = [sk[2] for sk in selected_kernels]\n",
    "final_stacked_preds = np.vstack(final_preds_list)\n",
    "final_ensemble_preds, _ = mode(final_stacked_preds, axis=0)\n",
    "final_ensemble_preds = final_ensemble_preds.ravel()\n",
    "final_score = accuracy_score(y_train3, final_ensemble_preds)\n",
    "\n",
    "print(f\"\\nFinal ensemble accuracy: {final_score:.4f}\")\n",
    "print(\"Final selected ensemble kernels:\")\n",
    "for sk in selected_kernels:\n",
    "    print(sk[1])\n",
    "\n",
    "del candidate_kernels\n",
    "gc.collect()\n",
    "print(\"Candidate kernels have been unloaded from memory.\")\n"
   ]
  },
  {
   "cell_type": "markdown",
   "metadata": {},
   "source": [
    "### Hyper-parameter Tuning\n",
    "\n",
    "#### Stage three : Optimizing C  "
   ]
  },
  {
   "cell_type": "code",
   "execution_count": null,
   "metadata": {},
   "outputs": [
    {
     "name": "stdout",
     "output_type": "stream",
     "text": [
      "C = 1.1: Ensemble cross-validated accuracy = 0.6595\n",
      "C = 1.11: Ensemble cross-validated accuracy = 0.6595\n",
      "C = 1.12: Ensemble cross-validated accuracy = 0.6598\n",
      "C = 1.1300000000000001: Ensemble cross-validated accuracy = 0.6601\n",
      "C = 1.1400000000000001: Ensemble cross-validated accuracy = 0.6602\n",
      "C = 1.1500000000000001: Ensemble cross-validated accuracy = 0.6609\n",
      "C = 1.1600000000000001: Ensemble cross-validated accuracy = 0.6606\n",
      "C = 1.1700000000000002: Ensemble cross-validated accuracy = 0.6606\n",
      "C = 1.1800000000000002: Ensemble cross-validated accuracy = 0.6604\n",
      "C = 1.1900000000000002: Ensemble cross-validated accuracy = 0.6610\n",
      "C = 1.2000000000000002: Ensemble cross-validated accuracy = 0.6603\n",
      "C = 1.2100000000000002: Ensemble cross-validated accuracy = 0.6600\n",
      "C = 1.2200000000000002: Ensemble cross-validated accuracy = 0.6602\n",
      "C = 1.2300000000000002: Ensemble cross-validated accuracy = 0.6602\n",
      "C = 1.2400000000000002: Ensemble cross-validated accuracy = 0.6600\n",
      "C = 1.2500000000000002: Ensemble cross-validated accuracy = 0.6598\n",
      "C = 1.2600000000000002: Ensemble cross-validated accuracy = 0.6591\n",
      "C = 1.2700000000000002: Ensemble cross-validated accuracy = 0.6588\n",
      "C = 1.2800000000000002: Ensemble cross-validated accuracy = 0.6588\n",
      "C = 1.2900000000000003: Ensemble cross-validated accuracy = 0.6587\n",
      "\n",
      "Best C value is 1.1900000000000002 with an ensemble accuracy of 0.6610\n"
     ]
    }
   ],
   "source": [
    "K1 = np.load(\"precomputed_kernels/mismatch_kernel_aug1_k11_m2_normalizeTrue.npy\")\n",
    "K2 = np.load(\"precomputed_kernels/mismatch_kernel_aug1_k20_m1_normalizeTrue.npy\")\n",
    "K3 = np.load(\"precomputed_kernels/mismatch_kernel_aug1_k12_m2_normalizeTrue.npy\")\n",
    "K4 = np.load(\"precomputed_kernels/mismatch_kernel_aug1_k5_m1_normalizeTrue.npy\")\n",
    "K5 = np.load(\"precomputed_kernels/mismatch_kernel_aug1_k11_m1_normalizeTrue.npy\")\n",
    "K6 = np.load(\"precomputed_kernels/mismatch_kernel_aug1_k17_m1_normalizeTrue.npy\")\n",
    "K7 = np.load(\"precomputed_kernels/mismatch_kernel_aug1_k10_m1_normalizeTrue.npy\")\n",
    "K8 = np.load(\"precomputed_kernels/spectrum_kernel_aug1_k11.npy\")\n",
    "\n",
    "Kernel_list = [K1, K2, K3, K4, K5, K6, K7, K8]\n",
    "\n",
    "K = np.sum(Kernel_list, axis=0) / len(Kernel_list)\n",
    "\n",
    "C_values = np.arange(1.1, 1.3, 0.01)\n",
    "\n",
    "best_C = None\n",
    "best_accuracy = 0\n",
    "\n",
    "\n",
    "for C in C_values:\n",
    "    cv_predictions = []\n",
    "    \n",
    "    acc = cross_val_score_with_precomputed_kernel(\n",
    "        Kernel_SVM(C=C, kernel='precomputed'), K, y_train1, cv=5, n_jobs=13, n_iter=5\n",
    "    ) \n",
    "   \n",
    "    print(f\"C = {C}: Ensemble cross-validated accuracy = {acc:.4f}\")\n",
    "    \n",
    "    if acc > best_accuracy:\n",
    "        best_accuracy = acc\n",
    "        best_C = C\n",
    "\n",
    "print(f\"\\nBest C value is {best_C} with an ensemble accuracy of {best_accuracy:.4f}\")"
   ]
  },
  {
   "cell_type": "code",
   "execution_count": null,
   "metadata": {},
   "outputs": [
    {
     "name": "stdout",
     "output_type": "stream",
     "text": [
      "C = 1.0: Ensemble cross-validated accuracy = 0.7880\n",
      "C = 1.01: Ensemble cross-validated accuracy = 0.7878\n",
      "C = 1.02: Ensemble cross-validated accuracy = 0.7876\n",
      "C = 1.03: Ensemble cross-validated accuracy = 0.7882\n",
      "C = 1.04: Ensemble cross-validated accuracy = 0.7880\n",
      "C = 1.05: Ensemble cross-validated accuracy = 0.7883\n",
      "C = 1.06: Ensemble cross-validated accuracy = 0.7877\n",
      "C = 1.07: Ensemble cross-validated accuracy = 0.7883\n",
      "C = 1.08: Ensemble cross-validated accuracy = 0.7883\n",
      "C = 1.09: Ensemble cross-validated accuracy = 0.7879\n",
      "C = 1.1: Ensemble cross-validated accuracy = 0.7882\n",
      "C = 1.11: Ensemble cross-validated accuracy = 0.7879\n",
      "C = 1.12: Ensemble cross-validated accuracy = 0.7878\n",
      "C = 1.1300000000000001: Ensemble cross-validated accuracy = 0.7876\n",
      "C = 1.1400000000000001: Ensemble cross-validated accuracy = 0.7875\n",
      "C = 1.1500000000000001: Ensemble cross-validated accuracy = 0.7881\n",
      "C = 1.1600000000000001: Ensemble cross-validated accuracy = 0.7877\n",
      "C = 1.1700000000000002: Ensemble cross-validated accuracy = 0.7874\n",
      "C = 1.1800000000000002: Ensemble cross-validated accuracy = 0.7871\n",
      "C = 1.1900000000000002: Ensemble cross-validated accuracy = 0.7870\n",
      "\n",
      "Best C value is 1.07 with an ensemble accuracy of 0.7883\n"
     ]
    }
   ],
   "source": [
    "K1 = np.load(\"precomputed_kernels/mismatch_kernel_aug2_k10_m1_normalizeTrue.npy\")\n",
    "K2 = np.load(\"precomputed_kernels/mismatch_kernel_aug2_k17_m1_normalizeTrue.npy\")\n",
    "K3 = np.load(\"precomputed_kernels/mismatch_kernel_aug2_k5_m2_normalizeTrue.npy\")\n",
    "K4 = np.load(\"precomputed_kernels/mismatch_kernel_aug2_k11_m1_normalizeTrue.npy\")\n",
    "K5 = np.load(\"precomputed_kernels/mismatch_kernel_aug2_k9_m1_normalizeTrue.npy\")\n",
    "K6 = np.load(\"precomputed_kernels/spectrum_kernel_aug2_k13.npy\")\n",
    "\n",
    "Kernel_list = [K1, K2, K3, K4, K5, K6]\n",
    "\n",
    "K = np.sum(Kernel_list, axis=0) / len(Kernel_list)\n",
    "\n",
    "C_values = np.arange(1, 1.2, 0.01)\n",
    "\n",
    "best_C = None\n",
    "best_accuracy = 0\n",
    "\n",
    "\n",
    "for C in C_values:\n",
    "    cv_predictions = []\n",
    "    \n",
    "    acc = cross_val_score_with_precomputed_kernel(\n",
    "        Kernel_SVM(C=C, kernel='precomputed'), K, y_train2, cv=5, n_jobs=13, n_iter=5\n",
    "    ) \n",
    "   \n",
    "    print(f\"C = {C}: Ensemble cross-validated accuracy = {acc:.4f}\")\n",
    "    \n",
    "    if acc > best_accuracy:\n",
    "        best_accuracy = acc\n",
    "        best_C = C\n",
    "\n",
    "print(f\"\\nBest C value is {best_C} with an ensemble accuracy of {best_accuracy:.4f}\")"
   ]
  },
  {
   "cell_type": "code",
   "execution_count": null,
   "metadata": {},
   "outputs": [
    {
     "name": "stdout",
     "output_type": "stream",
     "text": [
      "C = 0.9: Ensemble cross-validated accuracy = 0.6826\n",
      "C = 0.91: Ensemble cross-validated accuracy = 0.6833\n",
      "C = 0.92: Ensemble cross-validated accuracy = 0.6842\n",
      "C = 0.93: Ensemble cross-validated accuracy = 0.6847\n",
      "C = 0.9400000000000001: Ensemble cross-validated accuracy = 0.6853\n",
      "C = 0.9500000000000001: Ensemble cross-validated accuracy = 0.6852\n",
      "C = 0.9600000000000001: Ensemble cross-validated accuracy = 0.6857\n",
      "C = 0.9700000000000001: Ensemble cross-validated accuracy = 0.6869\n",
      "C = 0.9800000000000001: Ensemble cross-validated accuracy = 0.6873\n",
      "C = 0.9900000000000001: Ensemble cross-validated accuracy = 0.6871\n",
      "C = 1.0: Ensemble cross-validated accuracy = 0.6873\n",
      "C = 1.0100000000000002: Ensemble cross-validated accuracy = 0.6856\n",
      "C = 1.02: Ensemble cross-validated accuracy = 0.6844\n",
      "C = 1.0300000000000002: Ensemble cross-validated accuracy = 0.6830\n",
      "C = 1.04: Ensemble cross-validated accuracy = 0.6825\n",
      "C = 1.0500000000000003: Ensemble cross-validated accuracy = 0.6826\n",
      "C = 1.06: Ensemble cross-validated accuracy = 0.6821\n",
      "C = 1.0700000000000003: Ensemble cross-validated accuracy = 0.6820\n",
      "C = 1.08: Ensemble cross-validated accuracy = 0.6804\n",
      "C = 1.0900000000000003: Ensemble cross-validated accuracy = 0.6798\n",
      "C = 1.1: Ensemble cross-validated accuracy = 0.6788\n",
      "\n",
      "Best C value is 0.9800000000000001 with an ensemble accuracy of 0.6873\n"
     ]
    }
   ],
   "source": [
    "K1 = np.load(\"precomputed_kernels/mismatch_kernel_aug3_k17_m1_normalizeTrue.npy\")\n",
    "K2 = np.load(\"precomputed_kernels/spectrum_kernel_aug3_k12.npy\")\n",
    "K3 = np.load(\"precomputed_kernels/spectrum_kernel_aug3_k13.npy\")\n",
    "K4 = np.load(\"precomputed_kernels/mismatch_kernel_aug3_k14_m2_normalizeTrue.npy\")\n",
    "K5 = np.load(\"precomputed_kernels/mismatch_kernel_aug3_k19_m1_normalizeTrue.npy\")\n",
    "K6 = np.load(\"precomputed_kernels/mismatch_kernel_aug3_k15_m2_normalizeTrue.npy\")\n",
    "\n",
    "Kernel_list = [K1, K2, K3, K4, K5, K6]\n",
    "\n",
    "K = np.sum(Kernel_list, axis=0) / len(Kernel_list)\n",
    "\n",
    "C_values = np.arange(0.9, 1.1, 0.01)\n",
    "\n",
    "best_C = None\n",
    "best_accuracy = 0\n",
    "\n",
    "for C in C_values:\n",
    "    cv_predictions = []\n",
    "    \n",
    "    acc = cross_val_score_with_precomputed_kernel(\n",
    "        Kernel_SVM(C=C, kernel='precomputed'), K, y_train3, cv=5, n_jobs=13, n_iter=5\n",
    "    ) \n",
    "   \n",
    "    print(f\"C = {C}: Ensemble cross-validated accuracy = {acc:.4f}\")\n",
    "\n",
    "    if acc > best_accuracy:\n",
    "        best_accuracy = acc\n",
    "        best_C = C\n",
    "\n",
    "print(f\"\\nBest C value is {best_C} with an ensemble accuracy of {best_accuracy:.4f}\")"
   ]
  }
 ],
 "metadata": {
  "kernelspec": {
   "display_name": "base",
   "language": "python",
   "name": "python3"
  },
  "language_info": {
   "codemirror_mode": {
    "name": "ipython",
    "version": 3
   },
   "file_extension": ".py",
   "mimetype": "text/x-python",
   "name": "python",
   "nbconvert_exporter": "python",
   "pygments_lexer": "ipython3",
   "version": "3.12.3"
  }
 },
 "nbformat": 4,
 "nbformat_minor": 2
}
